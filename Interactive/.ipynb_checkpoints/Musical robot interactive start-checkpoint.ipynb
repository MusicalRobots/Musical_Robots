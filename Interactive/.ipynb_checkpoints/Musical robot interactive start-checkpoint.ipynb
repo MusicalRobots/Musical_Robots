{
 "cells": [
  {
   "cell_type": "markdown",
   "id": "07a6a3e7",
   "metadata": {},
   "source": [
    "## Music Robot\n",
    "\n"
   ]
  },
  {
   "cell_type": "code",
   "execution_count": 1,
   "id": "4a3ed871",
   "metadata": {
    "scrolled": true
   },
   "outputs": [],
   "source": [
    "#!pip install -U -q ipywidgets\n",
    "#!jupyter nbextension enable --py widgetsnbextension\n"
   ]
  },
  {
   "cell_type": "code",
   "execution_count": 2,
   "id": "2805f3fb",
   "metadata": {},
   "outputs": [],
   "source": [
    "import numpy as np\n",
    "import pandas as pd\n",
    "import scipy\n",
    "import ipywidgets as widgets\n",
    "import IPython.display as ipd\n",
    "import os\n",
    "import librosa\n",
    "import warnings\n",
    "\n",
    "from ipywidgets import interact, interact_manual\n",
    "from IPython.display import Image, display, HTML, Audio, clear_output"
   ]
  },
  {
   "cell_type": "markdown",
   "id": "0e136bf7",
   "metadata": {},
   "source": [
    "Hi there, I'm the musical robot. Nice to meet you!\n",
    "\n",
    "If you want to know the genre of the music, please go ahead and upload your music/audio file below.\n"
   ]
  },
  {
   "cell_type": "code",
   "execution_count": 3,
   "id": "6e35fbad",
   "metadata": {},
   "outputs": [
    {
     "data": {
      "application/vnd.jupyter.widget-view+json": {
       "model_id": "8c6a8350964447e8868adf742efbef4a",
       "version_major": 2,
       "version_minor": 0
      },
      "text/plain": [
       "FileUpload(value={}, description='Upload your audio file here', layout=Layout(height='40px', width='250px'))"
      ]
     },
     "metadata": {},
     "output_type": "display_data"
    }
   ],
   "source": [
    "uploader = widgets.FileUpload(multiple=False, description=\"Upload your audio file here\",\n",
    "                              layout=widgets.Layout(width='250px', height='40px'))\n",
    "display(uploader)"
   ]
  },
  {
   "cell_type": "code",
   "execution_count": 4,
   "id": "4bfa2e8f",
   "metadata": {},
   "outputs": [],
   "source": [
    "uploaded_filename = next(iter(uploader.value))\n",
    "content = uploader.value[uploaded_filename]['content']\n",
    "\n",
    "# save the uploaded file to the same directory , and load it in librosa\n",
    "# also \n",
    "\n",
    "with open(f'./{uploaded_filename}','wb') as fp:\n",
    "    fp.write(content)\n",
    "    warnings.simplefilter('ignore')\n",
    "    with warnings.catch_warnings(record=False):\n",
    "        y, sr = librosa.load(f'./{uploaded_filename}')\n",
    "        \n"
   ]
  },
  {
   "cell_type": "code",
   "execution_count": 5,
   "id": "b1885141",
   "metadata": {
    "scrolled": true
   },
   "outputs": [
    {
     "data": {
      "text/html": [
       "<h2>Starting analysing...<h2>"
      ],
      "text/plain": [
       "<IPython.core.display.HTML object>"
      ]
     },
     "metadata": {},
     "output_type": "display_data"
    }
   ],
   "source": [
    "b1 = widgets.Button(description='Yes', layout=widgets.Layout(width='30%'))\n",
    "b2 = widgets.Button(description='No', layout=widgets.Layout(width='30%'))\n",
    "b3 = widgets.Button(description='End', layout=widgets.Layout(width='30%'))\n",
    "display(HTML('<h2>Before analysing the genre, do you want to play your audio file?<h2>'))\n",
    "output = widgets.Output()\n",
    "h1 = widgets.HBox([b1, b2])\n",
    "display(h1, output)\n",
    "\n",
    "\n",
    "def yes_play_audio(b1):\n",
    "    output.clear_output(wait=True)\n",
    "    clear_output(wait=True)\n",
    "    display(HTML('<h2>Gotcha! Gonna play the audio for you<h2>'.format(b1.description)))\n",
    "    display(ipd.Audio(data=y, rate=sr))\n",
    "    display(b3)\n",
    "    b3.on_click(end_play_continue)        \n",
    "  \n",
    "def no_dont_play(b2):\n",
    "    output.clear_output(wait=True) \n",
    "    clear_output(wait=True)\n",
    "    display(HTML('<h2>Ok, starting analysis for you... <h2>'.format(b2.description)))\n",
    "\n",
    "def end_play_continue(b3):\n",
    "    clear_output(wait=False)\n",
    "    output.clear_output(wait=False)\n",
    "    display(HTML('<h2>Starting analysing...<h2>'))\n",
    "\n",
    "b1.on_click(yes_play_audio)\n",
    "b2.on_click(no_dont_play)\n"
   ]
  },
  {
   "cell_type": "code",
   "execution_count": null,
   "id": "e168cb43",
   "metadata": {},
   "outputs": [],
   "source": []
  }
 ],
 "metadata": {
  "kernelspec": {
   "display_name": "Python 3",
   "language": "python",
   "name": "python3"
  },
  "language_info": {
   "codemirror_mode": {
    "name": "ipython",
    "version": 3
   },
   "file_extension": ".py",
   "mimetype": "text/x-python",
   "name": "python",
   "nbconvert_exporter": "python",
   "pygments_lexer": "ipython3",
   "version": "3.8.8"
  },
  "toc": {
   "base_numbering": 1,
   "nav_menu": {},
   "number_sections": true,
   "sideBar": true,
   "skip_h1_title": false,
   "title_cell": "Table of Contents",
   "title_sidebar": "Contents",
   "toc_cell": false,
   "toc_position": {},
   "toc_section_display": true,
   "toc_window_display": false
  }
 },
 "nbformat": 4,
 "nbformat_minor": 5
}
