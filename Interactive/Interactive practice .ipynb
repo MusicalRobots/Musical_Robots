{
 "cells": [
  {
   "cell_type": "code",
   "execution_count": 2,
   "id": "1e37b0ce",
   "metadata": {},
   "outputs": [],
   "source": [
    "#!pip install - U - q ipywidgets\n",
    "#!jupyter nbextension enable - -py widgetsnbextension"
   ]
  },
  {
   "cell_type": "code",
   "execution_count": 2,
   "id": "f577e35a",
   "metadata": {},
   "outputs": [],
   "source": [
    "import numpy as np\n",
    "import pandas as pd\n",
    "import scipy\n",
    "import ipywidgets as widgets\n",
    "import IPython.display as ipd\n",
    "import os\n",
    "import librosa\n",
    "import warnings\n",
    "\n",
    "from ipywidgets import interact, interact_manual\n",
    "from IPython.display import Image, display, HTML, Audio, clear_output"
   ]
  },
  {
   "cell_type": "code",
   "execution_count": 16,
   "id": "85be8cc3",
   "metadata": {},
   "outputs": [
    {
     "data": {
      "text/html": [
       "<div>\n",
       "<style scoped>\n",
       "    .dataframe tbody tr th:only-of-type {\n",
       "        vertical-align: middle;\n",
       "    }\n",
       "\n",
       "    .dataframe tbody tr th {\n",
       "        vertical-align: top;\n",
       "    }\n",
       "\n",
       "    .dataframe thead th {\n",
       "        text-align: right;\n",
       "    }\n",
       "</style>\n",
       "<table border=\"1\" class=\"dataframe\">\n",
       "  <thead>\n",
       "    <tr style=\"text-align: right;\">\n",
       "      <th></th>\n",
       "      <th>#tracks</th>\n",
       "      <th>parent</th>\n",
       "      <th>title</th>\n",
       "      <th>top_level</th>\n",
       "    </tr>\n",
       "    <tr>\n",
       "      <th>genre_id</th>\n",
       "      <th></th>\n",
       "      <th></th>\n",
       "      <th></th>\n",
       "      <th></th>\n",
       "    </tr>\n",
       "  </thead>\n",
       "  <tbody>\n",
       "    <tr>\n",
       "      <th>1</th>\n",
       "      <td>8693</td>\n",
       "      <td>38</td>\n",
       "      <td>Avant-Garde</td>\n",
       "      <td>38</td>\n",
       "    </tr>\n",
       "    <tr>\n",
       "      <th>2</th>\n",
       "      <td>5271</td>\n",
       "      <td>0</td>\n",
       "      <td>International</td>\n",
       "      <td>2</td>\n",
       "    </tr>\n",
       "    <tr>\n",
       "      <th>3</th>\n",
       "      <td>1752</td>\n",
       "      <td>0</td>\n",
       "      <td>Blues</td>\n",
       "      <td>3</td>\n",
       "    </tr>\n",
       "    <tr>\n",
       "      <th>4</th>\n",
       "      <td>4126</td>\n",
       "      <td>0</td>\n",
       "      <td>Jazz</td>\n",
       "      <td>4</td>\n",
       "    </tr>\n",
       "    <tr>\n",
       "      <th>5</th>\n",
       "      <td>4106</td>\n",
       "      <td>0</td>\n",
       "      <td>Classical</td>\n",
       "      <td>5</td>\n",
       "    </tr>\n",
       "  </tbody>\n",
       "</table>\n",
       "</div>"
      ],
      "text/plain": [
       "          #tracks  parent          title  top_level\n",
       "genre_id                                           \n",
       "1            8693      38    Avant-Garde         38\n",
       "2            5271       0  International          2\n",
       "3            1752       0          Blues          3\n",
       "4            4126       0           Jazz          4\n",
       "5            4106       0      Classical          5"
      ]
     },
     "execution_count": 16,
     "metadata": {},
     "output_type": "execute_result"
    }
   ],
   "source": [
    "df = pd.read_csv(\n",
    "    'https://raw.githubusercontent.com/raph651/raph651/main/genres.csv', index_col=0)\n",
    "df.head()"
   ]
  },
  {
   "cell_type": "code",
   "execution_count": 17,
   "id": "37d40a3c",
   "metadata": {},
   "outputs": [
    {
     "data": {
      "application/vnd.jupyter.widget-view+json": {
       "model_id": "41b4129b70ce4d5ba2b8e9a24db826ac",
       "version_major": 2,
       "version_minor": 0
      },
      "text/plain": [
       "interactive(children=(Text(value='top level', description='column'), IntSlider(value=100, description='x', max…"
      ]
     },
     "metadata": {},
     "output_type": "display_data"
    }
   ],
   "source": [
    "@interact\n",
    "def show_articles_more_than(column='top level', x=100):\n",
    "    display(HTML(f'<h2>Showing articles with more than {x} {column}<h2>'))\n",
    "    display(df.loc[df['top_level'] > x, [\n",
    "            '#tracks', 'parent', 'title', 'top_level']])"
   ]
  },
  {
   "cell_type": "code",
   "execution_count": 18,
   "id": "886bfcc9",
   "metadata": {},
   "outputs": [
    {
     "data": {
      "application/vnd.jupyter.widget-view+json": {
       "model_id": "0974cc408de54d28a26057eb10a02f54",
       "version_major": 2,
       "version_minor": 0
      },
      "text/plain": [
       "interactive(children=(IntSlider(value=250, description='x', max=500, step=5), IntSlider(value=250, description…"
      ]
     },
     "metadata": {},
     "output_type": "display_data"
    }
   ],
   "source": [
    "@interact\n",
    "def show_titles_more_than(x=(0, 500, 5), y=(0, 500, 5),\n",
    "                          column1=list(df.select_dtypes('number'))[0],\n",
    "                          ):\n",
    "    display(\n",
    "        HTML(f'<h2>Showing genres with more than {x} and less than {y} {column1}<h2>'))\n",
    "    display(df.loc[(df[column1] > x) & (df[column1] < y),\n",
    "                   ['#tracks', 'parent', 'title', 'top_level']])"
   ]
  },
  {
   "cell_type": "code",
   "execution_count": 19,
   "id": "605b1a62",
   "metadata": {
    "scrolled": true
   },
   "outputs": [
    {
     "data": {
      "application/vnd.jupyter.widget-view+json": {
       "model_id": "80ff275f98b34be6b1778f14b2d5557a",
       "version_major": 2,
       "version_minor": 0
      },
      "text/plain": [
       "interactive(children=(Dropdown(description='file', options=('000002.mp3', '000005.mp3', '000010.mp3', '000140.…"
      ]
     },
     "metadata": {},
     "output_type": "display_data"
    }
   ],
   "source": [
    "fdir = '/mnt/e/fma_small/000/'\n",
    "\n",
    "\n",
    "def play_audio(file=os.listdir(fdir)):\n",
    "    #  use a dropdown box for choosing options\n",
    "    widgets.Dropdown(options=file, description='Select an audio file')\n",
    "\n",
    "    y, sr = librosa.load(fdir+file)\n",
    "\n",
    "    # using .format () to enable in string , use f'' or .format() ,cant use both\n",
    "    display(HTML('<h2>Playing the audio file {} ...<br><br>  Duration : {:f}s , {} samples <h2>'.format(\n",
    "        file, y.shape[-1]/sr, y.size)))\n",
    "\n",
    "    # inside a function, Audio cant play because it is actually played by resulting html. Use display to render the html method\n",
    "    display(ipd.Audio(data=y, rate=sr))\n",
    "\n",
    "\n",
    "# librosa uses the default package soundfile to load audio file, however, mp3 is instead supported by audioread.\n",
    "# librosa throws out a warning when a mp3 file is loaded. To get rid of the warning,use warnings.filterwarnings() function.\n",
    "with warnings.catch_warnings():\n",
    "    warnings.simplefilter(\"ignore\")\n",
    "    # call out the interact\n",
    "    interact(play_audio)"
   ]
  },
  {
   "cell_type": "code",
   "execution_count": null,
   "id": "a703dbed",
   "metadata": {},
   "outputs": [],
   "source": []
  },
  {
   "cell_type": "code",
   "execution_count": null,
   "id": "723df546",
   "metadata": {},
   "outputs": [],
   "source": []
  },
  {
   "cell_type": "markdown",
   "id": "4330cc27",
   "metadata": {},
   "source": [
    "Ask the user to input audio file"
   ]
  },
  {
   "cell_type": "code",
   "execution_count": 20,
   "id": "f3385cea",
   "metadata": {},
   "outputs": [
    {
     "data": {
      "application/vnd.jupyter.widget-view+json": {
       "model_id": "8855506443354a0c9c12bbf60481acb1",
       "version_major": 2,
       "version_minor": 0
      },
      "text/plain": [
       "FileUpload(value={}, description='Upload your audio file here', layout=Layout(height='40px', width='250px'))"
      ]
     },
     "metadata": {},
     "output_type": "display_data"
    }
   ],
   "source": [
    "uploader = widgets.FileUpload(multiple=False, description='Upload your audio file here',\n",
    "                              layout=widgets.Layout(width='250px', height='40px'))\n",
    "display(uploader)"
   ]
  },
  {
   "cell_type": "code",
   "execution_count": 21,
   "id": "369d6ed2",
   "metadata": {},
   "outputs": [],
   "source": [
    "uploaded_filename = next(iter(uploader.value))\n",
    "content = uploader.value[uploaded_filename]['content']\n",
    "\n",
    "# save the uploaded file to the same directory , and load it in librosa\n",
    "# also \n",
    "\n",
    "with open(f'./{uploaded_filename}','wb') as fp:\n",
    "    fp.write(content)\n",
    "    warnings.simplefilter('ignore')\n",
    "    with warnings.catch_warnings(record=False):\n",
    "        y, sr = librosa.load(f'./{uploaded_filename}')\n",
    "        \n"
   ]
  },
  {
   "cell_type": "markdown",
   "id": "763f232d",
   "metadata": {},
   "source": [
    "See if the user wants to play the audio file. If yes, play the audio.The user can quit when he wants, and proceed analysing the genre."
   ]
  },
  {
   "cell_type": "code",
   "execution_count": 27,
   "id": "b1885141",
   "metadata": {
    "scrolled": false
   },
   "outputs": [
    {
     "data": {
      "text/html": [
       "<h2>This is your audio file. Do you want to play your audio file now?<h2>"
      ],
      "text/plain": [
       "<IPython.core.display.HTML object>"
      ]
     },
     "metadata": {},
     "output_type": "display_data"
    },
    {
     "data": {
      "application/vnd.jupyter.widget-view+json": {
       "model_id": "7b7c3e3916404c23a08da8b7ed55d8ad",
       "version_major": 2,
       "version_minor": 0
      },
      "text/plain": [
       "HBox(children=(Button(description='Yes', layout=Layout(width='30%'), style=ButtonStyle()), Button(description=…"
      ]
     },
     "metadata": {},
     "output_type": "display_data"
    },
    {
     "data": {
      "application/vnd.jupyter.widget-view+json": {
       "model_id": "40dc3606ba674b04a225126224f4c254",
       "version_major": 2,
       "version_minor": 0
      },
      "text/plain": [
       "Output()"
      ]
     },
     "metadata": {},
     "output_type": "display_data"
    },
    {
     "data": {
      "text/html": [
       "<h2>Ok, gonna start analysing the genre for you <h2>"
      ],
      "text/plain": [
       "<IPython.core.display.HTML object>"
      ]
     },
     "metadata": {},
     "output_type": "display_data"
    }
   ],
   "source": [
    "b1 = widgets.Button(description='Yes', layout=widgets.Layout(width='30%'))\n",
    "b2 = widgets.Button(description='No', layout=widgets.Layout(width='30%'))\n",
    "b3 = widgets.Button(description='End', layout=widgets.Layout(width='30%'))\n",
    "display(HTML('<h2>Before analysing the genre, do you want to play your audio file?<h2>'))\n",
    "output = widgets.Output()\n",
    "h1 = widgets.HBox([b1, b2])\n",
    "display(h1, output)\n",
    "\n",
    "\n",
    "def yes_play_audio(b1):\n",
    "    output.clear_output(wait=True)\n",
    "    clear_output(wait=True)\n",
    "    display(HTML('<h2>Gotcha! Gonna play the audio for you<h2>'.format(b1.description)))\n",
    "    display(ipd.Audio(data=y, rate=sr))\n",
    "    display(b3)\n",
    "    b3.on_click(end_play_continue)        \n",
    "  \n",
    "def no_dont_play(b2):\n",
    "    output.clear_output(wait=True) \n",
    "    clear_output(wait=True)\n",
    "    display(HTML('<h2>Ok, gonna start analysing the genre for you <h2>'.format(b2.description)))\n",
    "\n",
    "def end_play_continue(b3):\n",
    "    output.clear_output(wait=False)\n",
    "    clear_output(wait=False)\n",
    "\n",
    "    display(HTML('<h2>Starting analysing...<h2>'))\n",
    "\n",
    "b1.on_click(yes_play_audio)\n",
    "b2.on_click(no_dont_play)\n"
   ]
  },
  {
   "cell_type": "markdown",
   "id": "1e1f65c4",
   "metadata": {},
   "source": [
    "At this point, the musical robot starts to predicting genre. \n",
    "\n",
    "--- genre returned"
   ]
  },
  {
   "cell_type": "code",
   "execution_count": 12,
   "id": "4783815d",
   "metadata": {},
   "outputs": [
    {
     "data": {
      "text/html": [
       "<h2>Hope its helpful ! Thank you !<h2>"
      ],
      "text/plain": [
       "<IPython.core.display.HTML object>"
      ]
     },
     "metadata": {},
     "output_type": "display_data"
    }
   ],
   "source": [
    "b4 = widgets.Button(description='Yes', layout=widgets.Layout(width='30%'))\n",
    "b5 = widgets.Button(description='No', layout=widgets.Layout(width='30%'))\n",
    "display(HTML('<h2>The genre is ...<h2>'))\n",
    "display(HTML('<h2> Do you want to know the similiar songs?<h2>'))\n",
    "output = widgets.Output()\n",
    "h1 = widgets.HBox([b4, b5])\n",
    "display(h1, output)\n",
    "\n",
    "def yes_similiar_songs(b4):\n",
    "    output.clear_output(wait=True) \n",
    "    clear_output(wait=False)\n",
    "\n",
    "    display(HTML('<h2>We have these similiar songs for you : .....<h2>'))\n",
    "    \n",
    "def no_similiar_songs(b5):\n",
    "    output.clear_output(wait=True) \n",
    "    clear_output(wait=False)\n",
    "\n",
    "    display(HTML('<h2>Hope it''s helpful ! Thank you !<h2>'))\n",
    "\n",
    "b4.on_click(yes_similiar_songs)\n",
    "b5.on_click(no_similiar_songs)\n",
    "    "
   ]
  },
  {
   "cell_type": "code",
   "execution_count": null,
   "id": "cdf761f8",
   "metadata": {},
   "outputs": [],
   "source": []
  }
 ],
 "metadata": {
  "kernelspec": {
   "display_name": "Python 3",
   "language": "python",
   "name": "python3"
  },
  "language_info": {
   "codemirror_mode": {
    "name": "ipython",
    "version": 3
   },
   "file_extension": ".py",
   "mimetype": "text/x-python",
   "name": "python",
   "nbconvert_exporter": "python",
   "pygments_lexer": "ipython3",
   "version": "3.8.8"
  },
  "toc": {
   "base_numbering": 1,
   "nav_menu": {},
   "number_sections": true,
   "sideBar": true,
   "skip_h1_title": false,
   "title_cell": "Table of Contents",
   "title_sidebar": "Contents",
   "toc_cell": false,
   "toc_position": {},
   "toc_section_display": true,
   "toc_window_display": false
  }
 },
 "nbformat": 4,
 "nbformat_minor": 5
}
