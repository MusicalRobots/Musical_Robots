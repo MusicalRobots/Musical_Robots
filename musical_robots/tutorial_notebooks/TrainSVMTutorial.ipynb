{
 "cells": [
  {
   "cell_type": "markdown",
   "id": "27f356c8",
   "metadata": {},
   "source": [
    "# Train An SVM Tutorial\n",
    "\n",
    "This tutorial walks you through how to train your own Support Vector Machine for music genre prediction.  To run this notebook, make sure you have the fma_small dataset from https://github.com/mdeff/fma downloaded into the \"data/\" directory "
   ]
  },
  {
   "cell_type": "code",
   "execution_count": 21,
   "id": "73b0db79",
   "metadata": {},
   "outputs": [],
   "source": [
    "from spectrogram_dataset import AudioFeature, create_audio_feature_dataset,create_dataframes\n",
    "import torch\n",
    "import numpy as np\n",
    "import torch.nn as nn\n",
    "import matplotlib.pyplot as plt\n",
    "from sklearn.svm import SVC\n",
    "from svm_prediction import svm_prediction, svm_accuracy_report\n",
    "from dataset_queries import return_similar_genres, return_most_popular_song, \\\n",
    "    play_random_song_from_genre, play_song_from_filename"
   ]
  },
  {
   "cell_type": "markdown",
   "id": "7c4813b0",
   "metadata": {},
   "source": [
    "First, create dataframes from the corresponding files."
   ]
  },
  {
   "cell_type": "code",
   "execution_count": 16,
   "id": "c220ffa3",
   "metadata": {},
   "outputs": [],
   "source": [
    "file_path_df, track_df, relevant_genre_df, total_genre_df = create_dataframes(\n",
    "    file_paths_path = 'data/all_data_paths.txt' , \n",
    "    tracks_csv_path = 'data/fma_metadata/tracks.csv',\n",
    "    genre_csv_path = 'data/fma_metadata/genres.csv')\n"
   ]
  },
  {
   "cell_type": "markdown",
   "id": "2c6d3fe2",
   "metadata": {},
   "source": [
    "The file_path_df contains filepaths for all of the audio files in the 'data/fma_small' folder. "
   ]
  },
  {
   "cell_type": "code",
   "execution_count": 8,
   "id": "d545175a",
   "metadata": {},
   "outputs": [
    {
     "data": {
      "text/html": [
       "<div>\n",
       "<style scoped>\n",
       "    .dataframe tbody tr th:only-of-type {\n",
       "        vertical-align: middle;\n",
       "    }\n",
       "\n",
       "    .dataframe tbody tr th {\n",
       "        vertical-align: top;\n",
       "    }\n",
       "\n",
       "    .dataframe thead th {\n",
       "        text-align: right;\n",
       "    }\n",
       "</style>\n",
       "<table border=\"1\" class=\"dataframe\">\n",
       "  <thead>\n",
       "    <tr style=\"text-align: right;\">\n",
       "      <th></th>\n",
       "      <th>file_path</th>\n",
       "    </tr>\n",
       "  </thead>\n",
       "  <tbody>\n",
       "    <tr>\n",
       "      <th>0</th>\n",
       "      <td>000/000002.mp3</td>\n",
       "    </tr>\n",
       "  </tbody>\n",
       "</table>\n",
       "</div>"
      ],
      "text/plain": [
       "        file_path\n",
       "0  000/000002.mp3"
      ]
     },
     "execution_count": 8,
     "metadata": {},
     "output_type": "execute_result"
    }
   ],
   "source": [
    "file_path_df.head(1)"
   ]
  },
  {
   "cell_type": "markdown",
   "id": "55a5895a",
   "metadata": {},
   "source": [
    "The track_df contains information about each audio file, including song title, album title, artist name, number of track listens, and top genre. \n"
   ]
  },
  {
   "cell_type": "code",
   "execution_count": 11,
   "id": "61eeb770",
   "metadata": {},
   "outputs": [
    {
     "data": {
      "text/html": [
       "<div>\n",
       "<style scoped>\n",
       "    .dataframe tbody tr th:only-of-type {\n",
       "        vertical-align: middle;\n",
       "    }\n",
       "\n",
       "    .dataframe tbody tr th {\n",
       "        vertical-align: top;\n",
       "    }\n",
       "\n",
       "    .dataframe thead th {\n",
       "        text-align: right;\n",
       "    }\n",
       "</style>\n",
       "<table border=\"1\" class=\"dataframe\">\n",
       "  <thead>\n",
       "    <tr style=\"text-align: right;\">\n",
       "      <th></th>\n",
       "      <th>track_id</th>\n",
       "      <th>album_id</th>\n",
       "      <th>album_listens</th>\n",
       "      <th>album_title</th>\n",
       "      <th>artist_name</th>\n",
       "      <th>track_favorites</th>\n",
       "      <th>track_genre_top</th>\n",
       "      <th>track_genres</th>\n",
       "      <th>track_interest</th>\n",
       "      <th>track_listens</th>\n",
       "      <th>track_title</th>\n",
       "    </tr>\n",
       "  </thead>\n",
       "  <tbody>\n",
       "    <tr>\n",
       "      <th>0</th>\n",
       "      <td>2</td>\n",
       "      <td>1</td>\n",
       "      <td>6073</td>\n",
       "      <td>AWOL - A Way Of Life</td>\n",
       "      <td>AWOL</td>\n",
       "      <td>2</td>\n",
       "      <td>Hip-Hop</td>\n",
       "      <td>[21]</td>\n",
       "      <td>4656</td>\n",
       "      <td>1293</td>\n",
       "      <td>Food</td>\n",
       "    </tr>\n",
       "  </tbody>\n",
       "</table>\n",
       "</div>"
      ],
      "text/plain": [
       "   track_id  album_id  album_listens           album_title artist_name  \\\n",
       "0         2         1           6073  AWOL - A Way Of Life        AWOL   \n",
       "\n",
       "   track_favorites track_genre_top track_genres  track_interest  \\\n",
       "0                2         Hip-Hop         [21]            4656   \n",
       "\n",
       "   track_listens track_title  \n",
       "0           1293        Food  "
      ]
     },
     "execution_count": 11,
     "metadata": {},
     "output_type": "execute_result"
    }
   ],
   "source": [
    "track_df.head(1)"
   ]
  },
  {
   "cell_type": "markdown",
   "id": "04ea7f32",
   "metadata": {},
   "source": [
    "The relevant_genre_df contains all of the genres that are identified as the top genre for genres in the fma_small dataset.  The genre_df contains all of the genres in track_df. "
   ]
  },
  {
   "cell_type": "code",
   "execution_count": 12,
   "id": "2af24e3e",
   "metadata": {},
   "outputs": [
    {
     "data": {
      "text/html": [
       "<div>\n",
       "<style scoped>\n",
       "    .dataframe tbody tr th:only-of-type {\n",
       "        vertical-align: middle;\n",
       "    }\n",
       "\n",
       "    .dataframe tbody tr th {\n",
       "        vertical-align: top;\n",
       "    }\n",
       "\n",
       "    .dataframe thead th {\n",
       "        text-align: right;\n",
       "    }\n",
       "</style>\n",
       "<table border=\"1\" class=\"dataframe\">\n",
       "  <thead>\n",
       "    <tr style=\"text-align: right;\">\n",
       "      <th></th>\n",
       "      <th>index</th>\n",
       "      <th>genre_id</th>\n",
       "      <th>title</th>\n",
       "    </tr>\n",
       "  </thead>\n",
       "  <tbody>\n",
       "    <tr>\n",
       "      <th>0</th>\n",
       "      <td>20</td>\n",
       "      <td>21</td>\n",
       "      <td>Hip-Hop</td>\n",
       "    </tr>\n",
       "  </tbody>\n",
       "</table>\n",
       "</div>"
      ],
      "text/plain": [
       "   index  genre_id    title\n",
       "0     20        21  Hip-Hop"
      ]
     },
     "execution_count": 12,
     "metadata": {},
     "output_type": "execute_result"
    }
   ],
   "source": [
    "relevant_genre_df.head(1)"
   ]
  },
  {
   "cell_type": "markdown",
   "id": "840fb5d7",
   "metadata": {},
   "source": [
    "Next, we create the training, validation, and test data.  Each entry of a dataset will contain, in order, Mel Frequecy cepstral coeffiecients (MFCCs), the zero crossing rate, the spectral centroid, the spectral contrast, the spectral bandwidth, spectral rollof, and the genre label corresponding to the labeld genres in relevent_genre_df. <b> NOTE: Generating the data can take upwards of 30 min. </b>   We recommend generating the data once and then saving it to load again for later use."
   ]
  },
  {
   "cell_type": "code",
   "execution_count": 20,
   "id": "dd913ce5",
   "metadata": {},
   "outputs": [],
   "source": [
    "train_data, validation_data, test_data = create_audio_feature_dataset(file_path_df, track_df, \n",
    "                                                                      relevant_genre_df, \n",
    "                                                                      test_percentage=.10, \n",
    "                                                                      validation_percentage=.10)\n"
   ]
  },
  {
   "cell_type": "code",
   "execution_count": 28,
   "id": "95560145",
   "metadata": {},
   "outputs": [],
   "source": [
    "#### np.save('train_data', train_data)\n",
    "#### np.save('test_data',test_data)\n",
    "#### np.save('validation_data', validation_data)\n",
    "\n",
    "#### train_data = np.load('train_data.npy', allow_pickle = True)\n",
    "#### test_data = np.load('test_data.npy', allow_pickle = True)\n",
    "#### validation_data = np.load('validation_data.npy', allow_pickle = True)"
   ]
  },
  {
   "cell_type": "markdown",
   "id": "9d168af2",
   "metadata": {},
   "source": [
    "The actual features used for training the SVM can be changed.  In the code below, we choose to use the average of the mfccs, the median of the mfccs, the standard deviation of the mfccs, the average of the spectral contrast, the median of the spectral contrast, and the standard deviation of the spectral contrast. "
   ]
  },
  {
   "cell_type": "code",
   "execution_count": 30,
   "id": "19b07e57",
   "metadata": {},
   "outputs": [],
   "source": [
    "train_data_array =np.array([np.concatenate([np.average(row[0], axis = 1), np.median(row[0], axis = 1), \n",
    "                                            np.std(row[0], axis = 1), [np.average(row[3])], [np.median(row[3])], \n",
    "                                            [np.std(row[3])]]) for row in train_data])\n",
    "\n",
    "train_data_label = [row[6] for row in train_data]\n",
    "\n",
    "test_data_array =np.array([np.concatenate([np.average(row[0], axis = 1), np.median(row[0], axis = 1), \n",
    "                                            np.std(row[0], axis = 1), [np.average(row[3])], [np.median(row[3])], \n",
    "                                            [np.std(row[3])]]) for row in test_data])\n",
    "\n",
    "test_data_label = [row[6] for row in test_data]\n",
    "\n"
   ]
  },
  {
   "cell_type": "markdown",
   "id": "ceca535b",
   "metadata": {},
   "source": [
    "We choose to use sklearn to train our SVM. Kernel options include ‘linear’, ‘poly’, ‘rbf’, and ‘sigmoid’.  Please, see the documentation for more options"
   ]
  },
  {
   "cell_type": "code",
   "execution_count": 31,
   "id": "8d30af51",
   "metadata": {},
   "outputs": [
    {
     "data": {
      "text/plain": [
       "SVC(kernel='linear')"
      ]
     },
     "execution_count": 31,
     "metadata": {},
     "output_type": "execute_result"
    }
   ],
   "source": [
    "clf = SVC(kernel = 'linear')\n",
    "clf.fit(train_data_array, train_data_label)"
   ]
  },
  {
   "cell_type": "markdown",
   "id": "f956a683",
   "metadata": {},
   "source": [
    "Predict the lables in the test set. And look at the accuracy metrics"
   ]
  },
  {
   "cell_type": "code",
   "execution_count": 98,
   "id": "a7b0a337",
   "metadata": {},
   "outputs": [
    {
     "name": "stdout",
     "output_type": "stream",
     "text": [
      "307  test files of a total of  800 are predicted correctly for an accuracy of  38.375 %\n",
      "\n",
      "\n",
      "True Positive Rate: 0.605 False Positive Rate: 0.134 Percent Correct for genre 0: 60.465\n",
      "True Positive Rate: 0.163 False Positive Rate: 0.079 Percent Correct for genre 1: 16.346\n",
      "True Positive Rate: 0.640 False Positive Rate: 0.124 Percent Correct for genre 2: 64.045\n",
      "True Positive Rate: 0.238 False Positive Rate: 0.084 Percent Correct for genre 3: 23.762\n",
      "True Positive Rate: 0.462 False Positive Rate: 0.098 Percent Correct for genre 4: 46.218\n",
      "True Positive Rate: 0.247 False Positive Rate: 0.034 Percent Correct for genre 6: 24.742\n",
      "True Positive Rate: 0.270 False Positive Rate: 0.049 Percent Correct for genre 8: 27.000\n",
      "True Positive Rate: 0.490 False Positive Rate: 0.101 Percent Correct for genre 14: 49.038\n"
     ]
    }
   ],
   "source": [
    "pred_labels = clf.predict(test_data_array)\n",
    "svm_accuracy_report(test_data_label, pred_labels)"
   ]
  },
  {
   "cell_type": "code",
   "execution_count": null,
   "id": "f5abab79",
   "metadata": {},
   "outputs": [],
   "source": []
  }
 ],
 "metadata": {
  "kernelspec": {
   "display_name": "Python 3 (ipykernel)",
   "language": "python",
   "name": "python3"
  },
  "language_info": {
   "codemirror_mode": {
    "name": "ipython",
    "version": 3
   },
   "file_extension": ".py",
   "mimetype": "text/x-python",
   "name": "python",
   "nbconvert_exporter": "python",
   "pygments_lexer": "ipython3",
   "version": "3.8.3"
  }
 },
 "nbformat": 4,
 "nbformat_minor": 5
}
