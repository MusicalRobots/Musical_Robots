{
 "cells": [
  {
   "cell_type": "code",
   "execution_count": 6,
   "id": "ebf5e0cd",
   "metadata": {},
   "outputs": [],
   "source": [
    "from spectrogram_dataset import AudioFeature, create_audio_feature_dataset,create_dataframes\n",
    "import torch\n",
    "import numpy as np\n",
    "import torch.nn as nn\n",
    "import matplotlib.pyplot as plt\n",
    "from svm_prediction import svm_prediction\n",
    "\n",
    "from dataset_queries import *"
   ]
  },
  {
   "cell_type": "code",
   "execution_count": 7,
   "id": "c220ffa3",
   "metadata": {},
   "outputs": [],
   "source": [
    "file_path_df, track_df, genre_df, total_genre_df = create_dataframes(file_paths_path = 'data/all_data_paths.txt' , \n",
    "                                                     tracks_csv_path = 'data/fma_metadata/tracks.csv', \n",
    "                                                     genre_csv_path = 'data/fma_metadata/genres.csv')\n"
   ]
  },
  {
   "cell_type": "code",
   "execution_count": 19,
   "id": "2532341e",
   "metadata": {},
   "outputs": [
    {
     "data": {
      "text/html": [
       "<div>\n",
       "<style scoped>\n",
       "    .dataframe tbody tr th:only-of-type {\n",
       "        vertical-align: middle;\n",
       "    }\n",
       "\n",
       "    .dataframe tbody tr th {\n",
       "        vertical-align: top;\n",
       "    }\n",
       "\n",
       "    .dataframe thead th {\n",
       "        text-align: right;\n",
       "    }\n",
       "</style>\n",
       "<table border=\"1\" class=\"dataframe\">\n",
       "  <thead>\n",
       "    <tr style=\"text-align: right;\">\n",
       "      <th></th>\n",
       "      <th>genre_id</th>\n",
       "      <th>title</th>\n",
       "    </tr>\n",
       "  </thead>\n",
       "  <tbody>\n",
       "    <tr>\n",
       "      <th>20</th>\n",
       "      <td>21</td>\n",
       "      <td>Hip-Hop</td>\n",
       "    </tr>\n",
       "    <tr>\n",
       "      <th>21</th>\n",
       "      <td>22</td>\n",
       "      <td>Audio Collage</td>\n",
       "    </tr>\n",
       "    <tr>\n",
       "      <th>22</th>\n",
       "      <td>25</td>\n",
       "      <td>Punk</td>\n",
       "    </tr>\n",
       "    <tr>\n",
       "      <th>23</th>\n",
       "      <td>26</td>\n",
       "      <td>Post-Rock</td>\n",
       "    </tr>\n",
       "    <tr>\n",
       "      <th>24</th>\n",
       "      <td>27</td>\n",
       "      <td>Lo-Fi</td>\n",
       "    </tr>\n",
       "    <tr>\n",
       "      <th>25</th>\n",
       "      <td>30</td>\n",
       "      <td>Field Recordings</td>\n",
       "    </tr>\n",
       "    <tr>\n",
       "      <th>26</th>\n",
       "      <td>31</td>\n",
       "      <td>Metal</td>\n",
       "    </tr>\n",
       "    <tr>\n",
       "      <th>27</th>\n",
       "      <td>32</td>\n",
       "      <td>Noise</td>\n",
       "    </tr>\n",
       "    <tr>\n",
       "      <th>28</th>\n",
       "      <td>33</td>\n",
       "      <td>Psych-Folk</td>\n",
       "    </tr>\n",
       "    <tr>\n",
       "      <th>29</th>\n",
       "      <td>36</td>\n",
       "      <td>Krautrock</td>\n",
       "    </tr>\n",
       "  </tbody>\n",
       "</table>\n",
       "</div>"
      ],
      "text/plain": [
       "    genre_id             title\n",
       "20        21           Hip-Hop\n",
       "21        22     Audio Collage\n",
       "22        25              Punk\n",
       "23        26         Post-Rock\n",
       "24        27             Lo-Fi\n",
       "25        30  Field Recordings\n",
       "26        31             Metal\n",
       "27        32             Noise\n",
       "28        33        Psych-Folk\n",
       "29        36         Krautrock"
      ]
     },
     "execution_count": 19,
     "metadata": {},
     "output_type": "execute_result"
    }
   ],
   "source": [
    "total_genre_df.iloc[20:30]"
   ]
  },
  {
   "cell_type": "code",
   "execution_count": 10,
   "id": "56934f9a",
   "metadata": {},
   "outputs": [
    {
     "data": {
      "text/html": [
       "<div>\n",
       "<style scoped>\n",
       "    .dataframe tbody tr th:only-of-type {\n",
       "        vertical-align: middle;\n",
       "    }\n",
       "\n",
       "    .dataframe tbody tr th {\n",
       "        vertical-align: top;\n",
       "    }\n",
       "\n",
       "    .dataframe thead th {\n",
       "        text-align: right;\n",
       "    }\n",
       "</style>\n",
       "<table border=\"1\" class=\"dataframe\">\n",
       "  <thead>\n",
       "    <tr style=\"text-align: right;\">\n",
       "      <th></th>\n",
       "      <th>track_id</th>\n",
       "      <th>album_id</th>\n",
       "      <th>album_listens</th>\n",
       "      <th>album_title</th>\n",
       "      <th>artist_name</th>\n",
       "      <th>track_favorites</th>\n",
       "      <th>track_genre_top</th>\n",
       "      <th>track_genres</th>\n",
       "      <th>track_interest</th>\n",
       "      <th>track_listens</th>\n",
       "      <th>track_title</th>\n",
       "    </tr>\n",
       "  </thead>\n",
       "  <tbody>\n",
       "    <tr>\n",
       "      <th>71712</th>\n",
       "      <td>108925</td>\n",
       "      <td>16911</td>\n",
       "      <td>8316</td>\n",
       "      <td>Live on Redundancy Radio with DJ Disk Jockey: ...</td>\n",
       "      <td>Awkward Girls</td>\n",
       "      <td>0</td>\n",
       "      <td>Rock</td>\n",
       "      <td>[25, 85]</td>\n",
       "      <td>6882</td>\n",
       "      <td>6592</td>\n",
       "      <td>Epic Adventure</td>\n",
       "    </tr>\n",
       "  </tbody>\n",
       "</table>\n",
       "</div>"
      ],
      "text/plain": [
       "       track_id  album_id  album_listens  \\\n",
       "71712    108925     16911           8316   \n",
       "\n",
       "                                             album_title    artist_name  \\\n",
       "71712  Live on Redundancy Radio with DJ Disk Jockey: ...  Awkward Girls   \n",
       "\n",
       "       track_favorites track_genre_top track_genres  track_interest  \\\n",
       "71712                0            Rock     [25, 85]            6882   \n",
       "\n",
       "       track_listens     track_title  \n",
       "71712           6592  Epic Adventure  "
      ]
     },
     "execution_count": 10,
     "metadata": {},
     "output_type": "execute_result"
    }
   ],
   "source": [
    "track_df[track_df['track_id'] == 108925]"
   ]
  },
  {
   "cell_type": "code",
   "execution_count": 9,
   "id": "dd913ce5",
   "metadata": {},
   "outputs": [
    {
     "name": "stdout",
     "output_type": "stream",
     "text": [
      "Starting making train_data\n",
      "Failed to load  data/fma_small/108/108925.mp3\n",
      "Failed to load  data/fma_small/099/099134.mp3\n"
     ]
    },
    {
     "ename": "KeyboardInterrupt",
     "evalue": "",
     "output_type": "error",
     "traceback": [
      "\u001b[0;31m---------------------------------------------------------------------------\u001b[0m",
      "\u001b[0;31mKeyboardInterrupt\u001b[0m                         Traceback (most recent call last)",
      "\u001b[0;32m/var/folders/xz/_nh5vnzd6w35js_89b99q6r40000gn/T/ipykernel_78002/2220747121.py\u001b[0m in \u001b[0;36m<module>\u001b[0;34m\u001b[0m\n\u001b[0;32m----> 1\u001b[0;31m \u001b[0mtrain_data\u001b[0m\u001b[0;34m,\u001b[0m \u001b[0mvalidation_data\u001b[0m\u001b[0;34m,\u001b[0m \u001b[0mtest_data\u001b[0m \u001b[0;34m=\u001b[0m \u001b[0mcreate_audio_feature_dataset\u001b[0m\u001b[0;34m(\u001b[0m\u001b[0mfile_path_df\u001b[0m\u001b[0;34m,\u001b[0m \u001b[0mtrack_df\u001b[0m\u001b[0;34m,\u001b[0m \u001b[0mgenre_df\u001b[0m\u001b[0;34m,\u001b[0m \u001b[0mtest_percentage\u001b[0m \u001b[0;34m=\u001b[0m \u001b[0;36m.10\u001b[0m\u001b[0;34m,\u001b[0m \u001b[0mvalidation_percentage\u001b[0m \u001b[0;34m=\u001b[0m \u001b[0;36m.10\u001b[0m\u001b[0;34m)\u001b[0m\u001b[0;34m\u001b[0m\u001b[0;34m\u001b[0m\u001b[0m\n\u001b[0m\u001b[1;32m      2\u001b[0m \u001b[0;34m\u001b[0m\u001b[0m\n",
      "\u001b[0;32m~/Documents/CSE583/FinalProject/Musical_Robots/musical_robots/spectrogram_dataset.py\u001b[0m in \u001b[0;36mcreate_audio_feature_dataset\u001b[0;34m(file_path_df, track_df, genre_df, path_to_data, test_percentage, validation_percentage)\u001b[0m\n\u001b[1;32m    239\u001b[0m         \u001b[0mfile_path_df\u001b[0m\u001b[0;34m=\u001b[0m\u001b[0mfile_path_df\u001b[0m\u001b[0;34m,\u001b[0m\u001b[0;34m\u001b[0m\u001b[0;34m\u001b[0m\u001b[0m\n\u001b[1;32m    240\u001b[0m         \u001b[0mtest_percentage\u001b[0m\u001b[0;34m=\u001b[0m\u001b[0mtest_percentage\u001b[0m\u001b[0;34m,\u001b[0m\u001b[0;34m\u001b[0m\u001b[0;34m\u001b[0m\u001b[0m\n\u001b[0;32m--> 241\u001b[0;31m         \u001b[0mvalidation_percentage\u001b[0m\u001b[0;34m=\u001b[0m\u001b[0mvalidation_percentage\u001b[0m\u001b[0;34m,\u001b[0m\u001b[0;34m\u001b[0m\u001b[0;34m\u001b[0m\u001b[0m\n\u001b[0m\u001b[1;32m    242\u001b[0m     )\n\u001b[1;32m    243\u001b[0m \u001b[0;34m\u001b[0m\u001b[0m\n",
      "\u001b[0;32m~/Documents/CSE583/FinalProject/Musical_Robots/musical_robots/spectrogram_dataset.py\u001b[0m in \u001b[0;36m__init__\u001b[0;34m(self, path_to_data, path_df, music_df, genre_df)\u001b[0m\n\u001b[1;32m     59\u001b[0m                 \u001b[0my_audio\u001b[0m\u001b[0;34m,\u001b[0m \u001b[0msr\u001b[0m\u001b[0;34m=\u001b[0m\u001b[0msample_rate\u001b[0m\u001b[0;34m,\u001b[0m \u001b[0mn_fft\u001b[0m\u001b[0;34m=\u001b[0m\u001b[0;36m2048\u001b[0m\u001b[0;34m,\u001b[0m \u001b[0mhop_length\u001b[0m\u001b[0;34m=\u001b[0m\u001b[0;36m1024\u001b[0m\u001b[0;34m\u001b[0m\u001b[0;34m\u001b[0m\u001b[0m\n\u001b[1;32m     60\u001b[0m             )\n\u001b[0;32m---> 61\u001b[0;31m             spectral_contrast = librosa.feature.spectral_contrast(\n\u001b[0m\u001b[1;32m     62\u001b[0m                 \u001b[0my_audio\u001b[0m\u001b[0;34m,\u001b[0m \u001b[0msr\u001b[0m\u001b[0;34m=\u001b[0m\u001b[0msample_rate\u001b[0m\u001b[0;34m,\u001b[0m \u001b[0mn_fft\u001b[0m\u001b[0;34m=\u001b[0m\u001b[0;36m2048\u001b[0m\u001b[0;34m,\u001b[0m \u001b[0mhop_length\u001b[0m\u001b[0;34m=\u001b[0m\u001b[0;36m1024\u001b[0m\u001b[0;34m\u001b[0m\u001b[0;34m\u001b[0m\u001b[0m\n\u001b[1;32m     63\u001b[0m             )\n",
      "\u001b[0;32m/opt/anaconda3/lib/python3.8/site-packages/librosa/feature/spectral.py\u001b[0m in \u001b[0;36mspectral_bandwidth\u001b[0;34m(y, sr, S, n_fft, hop_length, win_length, window, center, pad_mode, freq, centroid, norm, p)\u001b[0m\n\u001b[1;32m    324\u001b[0m     \"\"\"\n\u001b[1;32m    325\u001b[0m \u001b[0;34m\u001b[0m\u001b[0m\n\u001b[0;32m--> 326\u001b[0;31m     S, n_fft = _spectrogram(\n\u001b[0m\u001b[1;32m    327\u001b[0m         \u001b[0my\u001b[0m\u001b[0;34m=\u001b[0m\u001b[0my\u001b[0m\u001b[0;34m,\u001b[0m\u001b[0;34m\u001b[0m\u001b[0;34m\u001b[0m\u001b[0m\n\u001b[1;32m    328\u001b[0m         \u001b[0mS\u001b[0m\u001b[0;34m=\u001b[0m\u001b[0mS\u001b[0m\u001b[0;34m,\u001b[0m\u001b[0;34m\u001b[0m\u001b[0;34m\u001b[0m\u001b[0m\n",
      "\u001b[0;32m/opt/anaconda3/lib/python3.8/site-packages/librosa/core/spectrum.py\u001b[0m in \u001b[0;36m_spectrogram\u001b[0;34m(y, S, n_fft, hop_length, power, win_length, window, center, pad_mode)\u001b[0m\n\u001b[1;32m   2510\u001b[0m         S = (\n\u001b[1;32m   2511\u001b[0m             np.abs(\n\u001b[0;32m-> 2512\u001b[0;31m                 stft(\n\u001b[0m\u001b[1;32m   2513\u001b[0m                     \u001b[0my\u001b[0m\u001b[0;34m,\u001b[0m\u001b[0;34m\u001b[0m\u001b[0;34m\u001b[0m\u001b[0m\n\u001b[1;32m   2514\u001b[0m                     \u001b[0mn_fft\u001b[0m\u001b[0;34m=\u001b[0m\u001b[0mn_fft\u001b[0m\u001b[0;34m,\u001b[0m\u001b[0;34m\u001b[0m\u001b[0;34m\u001b[0m\u001b[0m\n",
      "\u001b[0;32m/opt/anaconda3/lib/python3.8/site-packages/librosa/core/spectrum.py\u001b[0m in \u001b[0;36mstft\u001b[0;34m(y, n_fft, hop_length, win_length, window, center, dtype, pad_mode)\u001b[0m\n\u001b[1;32m    255\u001b[0m         \u001b[0mbl_t\u001b[0m \u001b[0;34m=\u001b[0m \u001b[0mmin\u001b[0m\u001b[0;34m(\u001b[0m\u001b[0mbl_s\u001b[0m \u001b[0;34m+\u001b[0m \u001b[0mn_columns\u001b[0m\u001b[0;34m,\u001b[0m \u001b[0mstft_matrix\u001b[0m\u001b[0;34m.\u001b[0m\u001b[0mshape\u001b[0m\u001b[0;34m[\u001b[0m\u001b[0;36m1\u001b[0m\u001b[0;34m]\u001b[0m\u001b[0;34m)\u001b[0m\u001b[0;34m\u001b[0m\u001b[0;34m\u001b[0m\u001b[0m\n\u001b[1;32m    256\u001b[0m \u001b[0;34m\u001b[0m\u001b[0m\n\u001b[0;32m--> 257\u001b[0;31m         stft_matrix[:, bl_s:bl_t] = fft.rfft(\n\u001b[0m\u001b[1;32m    258\u001b[0m             \u001b[0mfft_window\u001b[0m \u001b[0;34m*\u001b[0m \u001b[0my_frames\u001b[0m\u001b[0;34m[\u001b[0m\u001b[0;34m:\u001b[0m\u001b[0;34m,\u001b[0m \u001b[0mbl_s\u001b[0m\u001b[0;34m:\u001b[0m\u001b[0mbl_t\u001b[0m\u001b[0;34m]\u001b[0m\u001b[0;34m,\u001b[0m \u001b[0maxis\u001b[0m\u001b[0;34m=\u001b[0m\u001b[0;36m0\u001b[0m\u001b[0;34m\u001b[0m\u001b[0;34m\u001b[0m\u001b[0m\n\u001b[1;32m    259\u001b[0m         )\n",
      "\u001b[0;32m<__array_function__ internals>\u001b[0m in \u001b[0;36mrfft\u001b[0;34m(*args, **kwargs)\u001b[0m\n",
      "\u001b[0;32m/opt/anaconda3/lib/python3.8/site-packages/numpy/fft/_pocketfft.py\u001b[0m in \u001b[0;36mrfft\u001b[0;34m(a, n, axis, norm)\u001b[0m\n\u001b[1;32m    407\u001b[0m         \u001b[0mn\u001b[0m \u001b[0;34m=\u001b[0m \u001b[0ma\u001b[0m\u001b[0;34m.\u001b[0m\u001b[0mshape\u001b[0m\u001b[0;34m[\u001b[0m\u001b[0maxis\u001b[0m\u001b[0;34m]\u001b[0m\u001b[0;34m\u001b[0m\u001b[0;34m\u001b[0m\u001b[0m\n\u001b[1;32m    408\u001b[0m     \u001b[0minv_norm\u001b[0m \u001b[0;34m=\u001b[0m \u001b[0m_get_forward_norm\u001b[0m\u001b[0;34m(\u001b[0m\u001b[0mn\u001b[0m\u001b[0;34m,\u001b[0m \u001b[0mnorm\u001b[0m\u001b[0;34m)\u001b[0m\u001b[0;34m\u001b[0m\u001b[0;34m\u001b[0m\u001b[0m\n\u001b[0;32m--> 409\u001b[0;31m     \u001b[0moutput\u001b[0m \u001b[0;34m=\u001b[0m \u001b[0m_raw_fft\u001b[0m\u001b[0;34m(\u001b[0m\u001b[0ma\u001b[0m\u001b[0;34m,\u001b[0m \u001b[0mn\u001b[0m\u001b[0;34m,\u001b[0m \u001b[0maxis\u001b[0m\u001b[0;34m,\u001b[0m \u001b[0;32mTrue\u001b[0m\u001b[0;34m,\u001b[0m \u001b[0;32mTrue\u001b[0m\u001b[0;34m,\u001b[0m \u001b[0minv_norm\u001b[0m\u001b[0;34m)\u001b[0m\u001b[0;34m\u001b[0m\u001b[0;34m\u001b[0m\u001b[0m\n\u001b[0m\u001b[1;32m    410\u001b[0m     \u001b[0;32mreturn\u001b[0m \u001b[0moutput\u001b[0m\u001b[0;34m\u001b[0m\u001b[0;34m\u001b[0m\u001b[0m\n\u001b[1;32m    411\u001b[0m \u001b[0;34m\u001b[0m\u001b[0m\n",
      "\u001b[0;32m/opt/anaconda3/lib/python3.8/site-packages/numpy/fft/_pocketfft.py\u001b[0m in \u001b[0;36m_raw_fft\u001b[0;34m(a, n, axis, is_real, is_forward, inv_norm)\u001b[0m\n\u001b[1;32m     71\u001b[0m     \u001b[0;32melse\u001b[0m\u001b[0;34m:\u001b[0m\u001b[0;34m\u001b[0m\u001b[0;34m\u001b[0m\u001b[0m\n\u001b[1;32m     72\u001b[0m         \u001b[0ma\u001b[0m \u001b[0;34m=\u001b[0m \u001b[0mswapaxes\u001b[0m\u001b[0;34m(\u001b[0m\u001b[0ma\u001b[0m\u001b[0;34m,\u001b[0m \u001b[0maxis\u001b[0m\u001b[0;34m,\u001b[0m \u001b[0;34m-\u001b[0m\u001b[0;36m1\u001b[0m\u001b[0;34m)\u001b[0m\u001b[0;34m\u001b[0m\u001b[0;34m\u001b[0m\u001b[0m\n\u001b[0;32m---> 73\u001b[0;31m         \u001b[0mr\u001b[0m \u001b[0;34m=\u001b[0m \u001b[0mpfi\u001b[0m\u001b[0;34m.\u001b[0m\u001b[0mexecute\u001b[0m\u001b[0;34m(\u001b[0m\u001b[0ma\u001b[0m\u001b[0;34m,\u001b[0m \u001b[0mis_real\u001b[0m\u001b[0;34m,\u001b[0m \u001b[0mis_forward\u001b[0m\u001b[0;34m,\u001b[0m \u001b[0mfct\u001b[0m\u001b[0;34m)\u001b[0m\u001b[0;34m\u001b[0m\u001b[0;34m\u001b[0m\u001b[0m\n\u001b[0m\u001b[1;32m     74\u001b[0m         \u001b[0mr\u001b[0m \u001b[0;34m=\u001b[0m \u001b[0mswapaxes\u001b[0m\u001b[0;34m(\u001b[0m\u001b[0mr\u001b[0m\u001b[0;34m,\u001b[0m \u001b[0maxis\u001b[0m\u001b[0;34m,\u001b[0m \u001b[0;34m-\u001b[0m\u001b[0;36m1\u001b[0m\u001b[0;34m)\u001b[0m\u001b[0;34m\u001b[0m\u001b[0;34m\u001b[0m\u001b[0m\n\u001b[1;32m     75\u001b[0m     \u001b[0;32mreturn\u001b[0m \u001b[0mr\u001b[0m\u001b[0;34m\u001b[0m\u001b[0;34m\u001b[0m\u001b[0m\n",
      "\u001b[0;31mKeyboardInterrupt\u001b[0m: "
     ]
    }
   ],
   "source": [
    "train_data, validation_data, test_data = create_audio_feature_dataset(file_path_df, track_df, genre_df, test_percentage = .10, validation_percentage = .10)\n",
    "\n"
   ]
  },
  {
   "cell_type": "code",
   "execution_count": 3,
   "id": "95560145",
   "metadata": {},
   "outputs": [],
   "source": [
    "# np.save('train_data', train_data)\n",
    "# np.save('validation_data', validation_data)\n",
    "# np.save('test_data', test_data)\n",
    "\n",
    "train_data = np.load('train_data.npy', allow_pickle = True)\n",
    "test_data = np.load('test_data.npy', allow_pickle = True)\n",
    "validation_data = np.load('validation_data.npy', allow_pickle = True)"
   ]
  },
  {
   "cell_type": "code",
   "execution_count": 4,
   "id": "19b07e57",
   "metadata": {},
   "outputs": [],
   "source": [
    "# train_data_array =np.array([np.concatenate([np.average(row[0], axis = 1), np.median(row[0], axis = 1), \n",
    "#                                             np.std(row[0], axis = 1), [np.average(row[1])], [np.average(row[2])], \n",
    "#                                             np.average(row[3], axis = 1), [np.average(row[4])], \n",
    "#                                             [np.average(5)]]) for row in train_data])\n",
    "\n",
    "\n",
    "train_data_array =np.array([np.concatenate([np.average(row[0], axis = 1), np.median(row[0], axis = 1), \n",
    "                                            np.std(row[0], axis = 1), [np.average(row[3])], [np.median(row[3])], \n",
    "                                            [np.std(row[3])]]) for row in train_data])\n",
    "\n",
    "train_data_label = [row[6] for row in train_data]\n",
    "\n",
    "\n",
    "\n",
    "# train_data_array =np.array([np.concatenate([np.average(row[0].numpy(), axis = 1), \n",
    "#                               np.median(row[0].numpy(), axis = 1), \n",
    "#                               np.std(row[0].numpy(), axis = 1)]) for row in train_data])\n",
    "# train_data_label = [torch.argmax(row[1]).item() for row in train_data]\n",
    "\n"
   ]
  },
  {
   "cell_type": "code",
   "execution_count": 5,
   "id": "9557b936",
   "metadata": {},
   "outputs": [
    {
     "data": {
      "image/png": "[encoded data removed]",
      "text/plain": [
       "<Figure size 432x288 with 1 Axes>"
      ]
     },
     "metadata": {
      "needs_background": "light"
     },
     "output_type": "display_data"
    },
    {
     "data": {
      "image/png": "[encoded data removed]",
      "text/plain": [
       "<Figure size 432x288 with 1 Axes>"
      ]
     },
     "metadata": {
      "needs_background": "light"
     },
     "output_type": "display_data"
    },
    {
     "data": {
      "image/png": "[encoded data removed]",
      "text/plain": [
       "<Figure size 432x288 with 1 Axes>"
      ]
     },
     "metadata": {
      "needs_background": "light"
     },
     "output_type": "display_data"
    },
    {
     "data": {
      "image/png": "[encoded data removed]",
      "text/plain": [
       "<Figure size 432x288 with 1 Axes>"
      ]
     },
     "metadata": {
      "needs_background": "light"
     },
     "output_type": "display_data"
    },
    {
     "data": {
      "image/png": "[encoded data removed]",
      "text/plain": [
       "<Figure size 432x288 with 1 Axes>"
      ]
     },
     "metadata": {
      "needs_background": "light"
     },
     "output_type": "display_data"
    },
    {
     "data": {
      "image/png": "[encoded data removed]",
      "text/plain": [
       "<Figure size 432x288 with 1 Axes>"
      ]
     },
     "metadata": {
      "needs_background": "light"
     },
     "output_type": "display_data"
    },
    {
     "data": {
      "image/png": "[encoded data removed]",
      "text/plain": [
       "<Figure size 432x288 with 1 Axes>"
      ]
     },
     "metadata": {
      "needs_background": "light"
     },
     "output_type": "display_data"
    },
    {
     "data": {
      "image/png": "[encoded data removed]",
      "text/plain": [
       "<Figure size 432x288 with 1 Axes>"
      ]
     },
     "metadata": {
      "needs_background": "light"
     },
     "output_type": "display_data"
    }
   ],
   "source": [
    "# unique_classes = np.unique(train_data_label)\n",
    "# list_of_features = [[] for i in range(len(unique_classes))]\n",
    "# for index, row in enumerate(train_data):\n",
    "#     genre = train_data_label[index]\n",
    "#     genre_loc = np.where(unique_classes == genre)[0][0]\n",
    "    \n",
    "    \n",
    "#     list_of_features[genre_loc].append(np.average(row[0], axis = 1))\n",
    "    \n",
    "# for feature in list_of_features:\n",
    "#     plt.figure()\n",
    "#     plt.hist(feature)"
   ]
  },
  {
   "cell_type": "code",
   "execution_count": 6,
   "id": "789a41cb",
   "metadata": {},
   "outputs": [],
   "source": [
    "# test_data_array =np.array([np.concatenate([np.average(row[0], axis = 1), np.median(row[0], axis = 1), \n",
    "#                                             np.std(row[0], axis = 1), [np.average(row[1])], [np.average(row[2])], \n",
    "#                                             np.average(row[3], axis = 1), [np.average(row[4])], \n",
    "#                                             [np.average(5)]]) for row in test_data])\n",
    "\n",
    "\n",
    "test_data_array =np.array([np.concatenate([np.average(row[0], axis = 1), np.median(row[0], axis = 1), \n",
    "                                            np.std(row[0], axis = 1), [np.average(row[3])], [np.median(row[3])], \n",
    "                                            [np.std(row[3])]]) for row in test_data])\n",
    "\n",
    "test_data_label = [row[6] for row in test_data]\n",
    "\n",
    "# test_data_array = np.array([np.concatenate([np.average(row[0].numpy(), axis = 1), \n",
    "#                               np.median(row[0].numpy(), axis = 1), \n",
    "#                               np.std(row[0].numpy(), axis = 1)]) for row in test_data])\n",
    "# test_data_label = [torch.argmax(row[1]).item() for row in test_data]\n",
    "\n",
    "# n = np.min(test_data_array.shape[0], teset_data_label.shape[0])"
   ]
  },
  {
   "cell_type": "code",
   "execution_count": 7,
   "id": "4d191e9c",
   "metadata": {},
   "outputs": [],
   "source": [
    "import pickle\n",
    "with open('svm_model.pkl', 'rb') as f:\n",
    "    clf = pickle.load(f)"
   ]
  },
  {
   "cell_type": "code",
   "execution_count": 8,
   "id": "a4aeb4a1",
   "metadata": {},
   "outputs": [],
   "source": [
    "# from sklearn.decomposition import PCA\n",
    "# pca = PCA(n_components = 500)\n",
    "# train_array_pca = pca.fit_transform(train_data_array)"
   ]
  },
  {
   "cell_type": "code",
   "execution_count": 9,
   "id": "8d30af51",
   "metadata": {},
   "outputs": [
    {
     "data": {
      "text/plain": [
       "SVC(kernel='linear')"
      ]
     },
     "execution_count": 9,
     "metadata": {},
     "output_type": "execute_result"
    }
   ],
   "source": [
    "from sklearn.svm import SVC\n",
    "clf = SVC(kernel = 'linear')\n",
    "clf.fit(train_data_array, train_data_label)"
   ]
  },
  {
   "cell_type": "code",
   "execution_count": 10,
   "id": "a7b0a337",
   "metadata": {},
   "outputs": [],
   "source": [
    "# test_array_pca = pca.fit_transform(test_data_array)\n",
    "labels = clf.predict(test_data_array)\n"
   ]
  },
  {
   "cell_type": "code",
   "execution_count": 11,
   "id": "f89780a8",
   "metadata": {},
   "outputs": [],
   "source": [
    "# labels "
   ]
  },
  {
   "cell_type": "code",
   "execution_count": 12,
   "id": "97c067a7",
   "metadata": {},
   "outputs": [
    {
     "name": "stdout",
     "output_type": "stream",
     "text": [
      "307 800 0.38375\n"
     ]
    }
   ],
   "source": [
    "ind = np.where(labels ==  test_data_label)[0]\n",
    "print(len(ind), len(labels), len(ind)/len(labels))"
   ]
  },
  {
   "cell_type": "code",
   "execution_count": 13,
   "id": "547859ea",
   "metadata": {},
   "outputs": [
    {
     "name": "stdout",
     "output_type": "stream",
     "text": [
      " TP:  52  FP:  96  percent correct for genre 0 :  60.46511627906976\n",
      " TP:  17  FP:  55  percent correct for genre 1 :  16.346153846153847\n",
      " TP:  57  FP:  88  percent correct for genre 2 :  64.04494382022472\n",
      " TP:  24  FP:  59  percent correct for genre 3 :  23.762376237623762\n",
      " TP:  55  FP:  67  percent correct for genre 4 :  46.21848739495798\n",
      " TP:  24  FP:  24  percent correct for genre 6 :  24.742268041237114\n",
      " TP:  27  FP:  34  percent correct for genre 8 :  27.0\n",
      " TP:  51  FP:  70  percent correct for genre 14 :  49.03846153846153\n"
     ]
    }
   ],
   "source": [
    "for i in np.unique(test_data_label):\n",
    "    true_ind = np.where(test_data_label == i)[0]\n",
    "    pred_ind = np.where(labels == i)[0]\n",
    "    percentage_ind = (len(np.intersect1d(true_ind,pred_ind))/len(true_ind))*100\n",
    "    \n",
    "    FP = len(np.setdiff1d(pred_ind,true_ind))\n",
    "    TP = len(np.intersect1d(true_ind,pred_ind))\n",
    "\n",
    "    print(' TP: ', TP, ' FP: ', FP, ' percent correct for genre', i, ': ', percentage_ind)\n",
    "    \n",
    "    "
   ]
  },
  {
   "cell_type": "code",
   "execution_count": 26,
   "id": "cce9abf0",
   "metadata": {},
   "outputs": [
    {
     "data": {
      "image/png": "[encoded data removed]",
      "text/plain": [
       "<Figure size 432x288 with 1 Axes>"
      ]
     },
     "metadata": {
      "needs_background": "light"
     },
     "output_type": "display_data"
    },
    {
     "data": {
      "image/png": "[encoded data removed]",
      "text/plain": [
       "<Figure size 432x288 with 1 Axes>"
      ]
     },
     "metadata": {
      "needs_background": "light"
     },
     "output_type": "display_data"
    },
    {
     "data": {
      "image/png": "[encoded data removed]",
      "text/plain": [
       "<Figure size 432x288 with 1 Axes>"
      ]
     },
     "metadata": {
      "needs_background": "light"
     },
     "output_type": "display_data"
    },
    {
     "data": {
      "image/png": "[encoded data removed]",
      "text/plain": [
       "<Figure size 432x288 with 1 Axes>"
      ]
     },
     "metadata": {
      "needs_background": "light"
     },
     "output_type": "display_data"
    },
    {
     "data": {
      "image/png": "[encoded data removed]",
      "text/plain": [
       "<Figure size 432x288 with 1 Axes>"
      ]
     },
     "metadata": {
      "needs_background": "light"
     },
     "output_type": "display_data"
    },
    {
     "data": {
      "image/png": "[encoded data removed]",
      "text/plain": [
       "<Figure size 432x288 with 1 Axes>"
      ]
     },
     "metadata": {
      "needs_background": "light"
     },
     "output_type": "display_data"
    },
    {
     "data": {
      "image/png": "[encoded data removed]",
      "text/plain": [
       "<Figure size 432x288 with 1 Axes>"
      ]
     },
     "metadata": {
      "needs_background": "light"
     },
     "output_type": "display_data"
    },
    {
     "data": {
      "image/png": "[encoded data removed]",
      "text/plain": [
       "<Figure size 432x288 with 1 Axes>"
      ]
     },
     "metadata": {
      "needs_background": "light"
     },
     "output_type": "display_data"
    }
   ],
   "source": [
    "import matplotlib.pyplot as plt\n",
    "\n",
    "for i in np.unique(test_data_label):\n",
    "    true_ind = np.where(test_data_label == i)[0]\n",
    "    pred_genres = labels[true_ind]\n",
    "    unique, counts = np.unique(pred_genres, return_counts=True)\n",
    "   \n",
    "    plt.figure()\n",
    "    plt.bar(unique, counts)\n",
    "\n"
   ]
  },
  {
   "cell_type": "code",
   "execution_count": 101,
   "id": "95a80344",
   "metadata": {},
   "outputs": [
    {
     "data": {
      "text/html": [
       "<div>\n",
       "<style scoped>\n",
       "    .dataframe tbody tr th:only-of-type {\n",
       "        vertical-align: middle;\n",
       "    }\n",
       "\n",
       "    .dataframe tbody tr th {\n",
       "        vertical-align: top;\n",
       "    }\n",
       "\n",
       "    .dataframe thead th {\n",
       "        text-align: right;\n",
       "    }\n",
       "</style>\n",
       "<table border=\"1\" class=\"dataframe\">\n",
       "  <thead>\n",
       "    <tr style=\"text-align: right;\">\n",
       "      <th></th>\n",
       "      <th>index</th>\n",
       "      <th>genre_id</th>\n",
       "      <th>title</th>\n",
       "    </tr>\n",
       "  </thead>\n",
       "  <tbody>\n",
       "    <tr>\n",
       "      <th>0</th>\n",
       "      <td>20</td>\n",
       "      <td>21</td>\n",
       "      <td>Hip-Hop</td>\n",
       "    </tr>\n",
       "    <tr>\n",
       "      <th>1</th>\n",
       "      <td>9</td>\n",
       "      <td>10</td>\n",
       "      <td>Pop</td>\n",
       "    </tr>\n",
       "    <tr>\n",
       "      <th>2</th>\n",
       "      <td>11</td>\n",
       "      <td>12</td>\n",
       "      <td>Rock</td>\n",
       "    </tr>\n",
       "    <tr>\n",
       "      <th>3</th>\n",
       "      <td>31</td>\n",
       "      <td>38</td>\n",
       "      <td>Experimental</td>\n",
       "    </tr>\n",
       "    <tr>\n",
       "      <th>4</th>\n",
       "      <td>16</td>\n",
       "      <td>17</td>\n",
       "      <td>Folk</td>\n",
       "    </tr>\n",
       "    <tr>\n",
       "      <th>5</th>\n",
       "      <td>3</td>\n",
       "      <td>4</td>\n",
       "      <td>Jazz</td>\n",
       "    </tr>\n",
       "    <tr>\n",
       "      <th>6</th>\n",
       "      <td>14</td>\n",
       "      <td>15</td>\n",
       "      <td>Electronic</td>\n",
       "    </tr>\n",
       "    <tr>\n",
       "      <th>7</th>\n",
       "      <td>19</td>\n",
       "      <td>20</td>\n",
       "      <td>Spoken</td>\n",
       "    </tr>\n",
       "    <tr>\n",
       "      <th>8</th>\n",
       "      <td>1</td>\n",
       "      <td>2</td>\n",
       "      <td>International</td>\n",
       "    </tr>\n",
       "    <tr>\n",
       "      <th>9</th>\n",
       "      <td>13</td>\n",
       "      <td>14</td>\n",
       "      <td>Soul-RnB</td>\n",
       "    </tr>\n",
       "    <tr>\n",
       "      <th>10</th>\n",
       "      <td>2</td>\n",
       "      <td>3</td>\n",
       "      <td>Blues</td>\n",
       "    </tr>\n",
       "    <tr>\n",
       "      <th>11</th>\n",
       "      <td>8</td>\n",
       "      <td>9</td>\n",
       "      <td>Country</td>\n",
       "    </tr>\n",
       "    <tr>\n",
       "      <th>12</th>\n",
       "      <td>4</td>\n",
       "      <td>5</td>\n",
       "      <td>Classical</td>\n",
       "    </tr>\n",
       "    <tr>\n",
       "      <th>13</th>\n",
       "      <td>7</td>\n",
       "      <td>8</td>\n",
       "      <td>Old-Time / Historic</td>\n",
       "    </tr>\n",
       "    <tr>\n",
       "      <th>14</th>\n",
       "      <td>162</td>\n",
       "      <td>1235</td>\n",
       "      <td>Instrumental</td>\n",
       "    </tr>\n",
       "    <tr>\n",
       "      <th>15</th>\n",
       "      <td>12</td>\n",
       "      <td>13</td>\n",
       "      <td>Easy Listening</td>\n",
       "    </tr>\n",
       "  </tbody>\n",
       "</table>\n",
       "</div>"
      ],
      "text/plain": [
       "    index  genre_id                title\n",
       "0      20        21              Hip-Hop\n",
       "1       9        10                  Pop\n",
       "2      11        12                 Rock\n",
       "3      31        38         Experimental\n",
       "4      16        17                 Folk\n",
       "5       3         4                 Jazz\n",
       "6      14        15           Electronic\n",
       "7      19        20               Spoken\n",
       "8       1         2        International\n",
       "9      13        14             Soul-RnB\n",
       "10      2         3                Blues\n",
       "11      8         9              Country\n",
       "12      4         5            Classical\n",
       "13      7         8  Old-Time / Historic\n",
       "14    162      1235         Instrumental\n",
       "15     12        13       Easy Listening"
      ]
     },
     "execution_count": 101,
     "metadata": {},
     "output_type": "execute_result"
    }
   ],
   "source": [
    "genre_df.head(20)"
   ]
  },
  {
   "cell_type": "code",
   "execution_count": 89,
   "id": "e0886a75",
   "metadata": {},
   "outputs": [
    {
     "name": "stdout",
     "output_type": "stream",
     "text": [
      "2.6234893356760343 0.24722221493721008\n"
     ]
    }
   ],
   "source": [
    "criterion = torch.nn.CrossEntropyLoss()\n",
    "test_loader = torch.utils.data.DataLoader(validation_data, batch_size = 1, shuffle = False)\n",
    "loss, acc = evaluate(model, test_loader, criterion)\n",
    "print(loss, acc)"
   ]
  },
  {
   "cell_type": "code",
   "execution_count": 151,
   "id": "7afec959",
   "metadata": {},
   "outputs": [
    {
     "data": {
      "text/plain": [
       "<All keys matched successfully>"
      ]
     },
     "execution_count": 151,
     "metadata": {},
     "output_type": "execute_result"
    }
   ],
   "source": [
    "# torch.save(model.state_dict(), 'mfcc_model_2')\n",
    "fin_model = NN()\n",
    "fin_model.load_state_dict(torch.load('mfcc_model'))\n",
    "# # model.eval()"
   ]
  },
  {
   "cell_type": "code",
   "execution_count": null,
   "id": "d51b9545",
   "metadata": {},
   "outputs": [],
   "source": [
    "#mfcc model had 2 conv with 1 in 1 out kernel size 3 and 1 linear\n",
    "#mfcc model 2 2 conv 115 112 2 linear 32, 16"
   ]
  },
  {
   "cell_type": "code",
   "execution_count": 96,
   "id": "da611d73",
   "metadata": {},
   "outputs": [],
   "source": [
    "row = file_path_df['file_path']"
   ]
  },
  {
   "cell_type": "code",
   "execution_count": 158,
   "id": "236b0bcf",
   "metadata": {},
   "outputs": [
    {
     "name": "stdout",
     "output_type": "stream",
     "text": [
      "true: 68    Folk\n",
      "Name: track_genre_top, dtype: object\n"
     ]
    }
   ],
   "source": [
    "import librosa\n",
    "i = 10\n",
    "\n",
    "filename = 'data/fma_small/' + row[i]\n",
    "\n",
    "try:\n",
    "    y, sr = librosa.load(filename, sr=None, mono=True)\n",
    "except (RuntimeError, audioread.NoBackendError):\n",
    "    print('Failed to load ', filename)\n",
    "\n",
    "song_id = row[i].rsplit('/')[1].rsplit('.')[0].lstrip('0')\n",
    "\n",
    "    \n",
    "mel = librosa.feature.mfcc(y=y)\n",
    "m = torch.nn.AdaptiveAvgPool1d(2500)\n",
    "mel = m(torch.from_numpy(mel))\n",
    "mel = (mel - torch.min(mel)) / (torch.max(mel) - torch.min(mel))\n",
    "\n",
    "genre_text = track_df[track_df['track_id'] == int(song_id)]['track_genre_top']\n",
    "\n",
    "print('true:', genre_text)"
   ]
  },
  {
   "cell_type": "code",
   "execution_count": 159,
   "id": "72625cbf",
   "metadata": {},
   "outputs": [
    {
     "name": "stdout",
     "output_type": "stream",
     "text": [
      "predicted: Hip-Hop\n"
     ]
    }
   ],
   "source": [
    "output = fin_model(mel[None, :,:])\n",
    "pred_genre = torch.argmax(output, dim = 1).item()\n",
    "print('predicted:', genre_df.iloc[0]['title'])"
   ]
  },
  {
   "cell_type": "code",
   "execution_count": 160,
   "id": "7c7b0f5c",
   "metadata": {},
   "outputs": [
    {
     "name": "stdout",
     "output_type": "stream",
     "text": [
      "predicted: Hip-Hop\n",
      "predicted: Hip-Hop\n",
      "predicted: Hip-Hop\n",
      "predicted: Hip-Hop\n",
      "predicted: Hip-Hop\n",
      "predicted: Hip-Hop\n",
      "predicted: Hip-Hop\n",
      "predicted: Hip-Hop\n",
      "predicted: Hip-Hop\n",
      "predicted: Hip-Hop\n",
      "predicted: Hip-Hop\n",
      "predicted: Hip-Hop\n",
      "predicted: Hip-Hop\n",
      "predicted: Hip-Hop\n",
      "predicted: Hip-Hop\n",
      "predicted: Hip-Hop\n",
      "predicted: Hip-Hop\n",
      "predicted: Hip-Hop\n",
      "predicted: Hip-Hop\n",
      "predicted: Hip-Hop\n",
      "predicted: Hip-Hop\n",
      "predicted: Hip-Hop\n",
      "predicted: Hip-Hop\n",
      "predicted: Hip-Hop\n",
      "predicted: Hip-Hop\n",
      "predicted: Hip-Hop\n",
      "predicted: Hip-Hop\n",
      "predicted: Hip-Hop\n",
      "predicted: Hip-Hop\n",
      "predicted: Hip-Hop\n",
      "predicted: Hip-Hop\n",
      "predicted: Hip-Hop\n",
      "predicted: Hip-Hop\n",
      "predicted: Hip-Hop\n",
      "predicted: Hip-Hop\n",
      "predicted: Hip-Hop\n",
      "predicted: Hip-Hop\n",
      "predicted: Hip-Hop\n",
      "predicted: Hip-Hop\n",
      "predicted: Hip-Hop\n",
      "predicted: Hip-Hop\n",
      "predicted: Hip-Hop\n",
      "predicted: Hip-Hop\n",
      "predicted: Hip-Hop\n",
      "predicted: Hip-Hop\n",
      "predicted: Hip-Hop\n",
      "predicted: Hip-Hop\n",
      "predicted: Hip-Hop\n",
      "predicted: Hip-Hop\n",
      "predicted: Hip-Hop\n",
      "predicted: Hip-Hop\n",
      "predicted: Hip-Hop\n",
      "predicted: Hip-Hop\n",
      "predicted: Hip-Hop\n",
      "predicted: Hip-Hop\n",
      "predicted: Hip-Hop\n",
      "predicted: Hip-Hop\n",
      "predicted: Hip-Hop\n",
      "predicted: Hip-Hop\n",
      "predicted: Hip-Hop\n",
      "predicted: Hip-Hop\n",
      "predicted: Hip-Hop\n",
      "predicted: Hip-Hop\n",
      "predicted: Hip-Hop\n",
      "predicted: Hip-Hop\n",
      "predicted: Hip-Hop\n",
      "predicted: Hip-Hop\n",
      "predicted: Hip-Hop\n",
      "predicted: Hip-Hop\n",
      "predicted: Hip-Hop\n",
      "predicted: Hip-Hop\n",
      "predicted: Hip-Hop\n",
      "predicted: Hip-Hop\n",
      "predicted: Hip-Hop\n",
      "predicted: Hip-Hop\n",
      "predicted: Hip-Hop\n",
      "predicted: Hip-Hop\n",
      "predicted: Hip-Hop\n",
      "predicted: Hip-Hop\n",
      "predicted: Hip-Hop\n",
      "predicted: Hip-Hop\n",
      "predicted: Hip-Hop\n",
      "predicted: Hip-Hop\n",
      "predicted: Hip-Hop\n",
      "predicted: Hip-Hop\n",
      "predicted: Hip-Hop\n",
      "predicted: Hip-Hop\n",
      "predicted: Hip-Hop\n",
      "predicted: Hip-Hop\n",
      "predicted: Hip-Hop\n",
      "predicted: Hip-Hop\n",
      "predicted: Hip-Hop\n",
      "predicted: Hip-Hop\n",
      "predicted: Hip-Hop\n",
      "predicted: Hip-Hop\n",
      "predicted: Hip-Hop\n",
      "predicted: Hip-Hop\n",
      "predicted: Hip-Hop\n",
      "predicted: Hip-Hop\n",
      "predicted: Hip-Hop\n"
     ]
    }
   ],
   "source": [
    "for i in range(100):\n",
    "    filename = 'data/fma_small/' + row[i]\n",
    "\n",
    "    try:\n",
    "        y, sr = librosa.load(filename, sr=None, mono=True)\n",
    "    except (RuntimeError, audioread.NoBackendError):\n",
    "        print('Failed to load ', filename)\n",
    "\n",
    "    song_id = row[i].rsplit('/')[1].rsplit('.')[0].lstrip('0')\n",
    "\n",
    "\n",
    "    mel = librosa.feature.mfcc(y=y)\n",
    "    m = torch.nn.AdaptiveAvgPool1d(2500)\n",
    "    mel = m(torch.from_numpy(mel))\n",
    "    mel = (mel - torch.min(mel)) / (torch.max(mel) - torch.min(mel))\n",
    "\n",
    "    genre_text = track_df[track_df['track_id'] == int(song_id)]['track_genre_top']\n",
    "\n",
    "#     print('true:', genre_text)\n",
    "    output = fin_model(mel[None, :,:])\n",
    "    pred_genre = torch.argmax(output, dim = 1).item()\n",
    "    print('predicted:', genre_df.iloc[0]['title'])"
   ]
  },
  {
   "cell_type": "code",
   "execution_count": null,
   "id": "f5abab79",
   "metadata": {},
   "outputs": [],
   "source": []
  }
 ],
 "metadata": {
  "kernelspec": {
   "display_name": "Python 3 (ipykernel)",
   "language": "python",
   "name": "python3"
  },
  "language_info": {
   "codemirror_mode": {
    "name": "ipython",
    "version": 3
   },
   "file_extension": ".py",
   "mimetype": "text/x-python",
   "name": "python",
   "nbconvert_exporter": "python",
   "pygments_lexer": "ipython3",
   "version": "3.8.3"
  }
 },
 "nbformat": 4,
 "nbformat_minor": 5
}
