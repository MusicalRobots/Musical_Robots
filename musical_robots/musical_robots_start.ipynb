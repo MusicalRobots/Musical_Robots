{
 "cells": [
  {
   "cell_type": "markdown",
   "id": "07a6a3e7",
   "metadata": {},
   "source": [
    "## Music Robot\n",
    "\n"
   ]
  },
  {
   "cell_type": "code",
   "execution_count": 1,
   "id": "4a3ed871",
   "metadata": {
    "scrolled": true
   },
   "outputs": [],
   "source": [
    "#!pip install -U -q ipywidgets\n",
    "#!jupyter nbextension enable --py widgetsnbextension\n"
   ]
  },
  {
   "cell_type": "code",
   "execution_count": 1,
   "id": "2805f3fb",
   "metadata": {},
   "outputs": [],
   "source": [
    "import numpy as np\n",
    "import pandas as pd\n",
    "import scipy\n",
    "import ipywidgets as widgets\n",
    "import IPython.display as ipd\n",
    "import os\n",
    "import librosa\n",
    "import warnings\n",
    "\n",
    "import interact_with_user\n",
    "from ipywidgets import interact, interact_manual\n",
    "from IPython.display import Image, display, HTML, Audio, clear_output"
   ]
  },
  {
   "cell_type": "code",
   "execution_count": 2,
   "id": "6a4e4f85",
   "metadata": {},
   "outputs": [
    {
     "data": {
      "text/html": [
       "<h3>Hi there, I'm the musical robot. Nice to meet you!<br><br>If you want to know the genre of the music, please go ahead and upload your music/audio file below.<h3>"
      ],
      "text/plain": [
       "<IPython.core.display.HTML object>"
      ]
     },
     "metadata": {},
     "output_type": "display_data"
    },
    {
     "data": {
      "application/vnd.jupyter.widget-view+json": {
       "model_id": "8f6f5e55880e49cc97889b80f776f5d5",
       "version_major": 2,
       "version_minor": 0
      },
      "text/plain": [
       "FileUpload(value={}, description='Upload', layout=Layout(height='40px', width='250px'))"
      ]
     },
     "metadata": {},
     "output_type": "display_data"
    },
    {
     "data": {
      "application/vnd.jupyter.widget-view+json": {
       "model_id": "f344c5652c6a49d5bd313d50ec32cc0a",
       "version_major": 2,
       "version_minor": 0
      },
      "text/plain": [
       "Output()"
      ]
     },
     "metadata": {},
     "output_type": "display_data"
    }
   ],
   "source": [
    "display(HTML(\"<h3>Hi there, I'm the musical robot. Nice to meet you!<br><br>If you want to know the genre of the music, please go ahead and upload your music/audio file below.<h3>\" ))\n",
    "\n",
    "robot=interact_with_user.Interactive()\n",
    "uploader,output=robot.uploader()\n",
    "def on_upload_change(change):\n",
    "\n",
    "    y, sr = interact_with_user.save_file(uploader)\n",
    "    \n",
    "    robot.if_play_songs_first(y, sr)\n",
    "\n",
    "uploader.observe(on_upload_change, names='value')"
   ]
  },
  {
   "cell_type": "code",
   "execution_count": null,
   "id": "87792b15",
   "metadata": {},
   "outputs": [],
   "source": []
  }
 ],
 "metadata": {
  "kernelspec": {
   "display_name": "Python 3",
   "language": "python",
   "name": "python3"
  },
  "language_info": {
   "codemirror_mode": {
    "name": "ipython",
    "version": 3
   },
   "file_extension": ".py",
   "mimetype": "text/x-python",
   "name": "python",
   "nbconvert_exporter": "python",
   "pygments_lexer": "ipython3",
   "version": "3.8.8"
  },
  "toc": {
   "base_numbering": 1,
   "nav_menu": {},
   "number_sections": true,
   "sideBar": true,
   "skip_h1_title": false,
   "title_cell": "Table of Contents",
   "title_sidebar": "Contents",
   "toc_cell": false,
   "toc_position": {},
   "toc_section_display": true,
   "toc_window_display": false
  }
 },
 "nbformat": 4,
 "nbformat_minor": 5
}
