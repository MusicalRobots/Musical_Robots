{
 "cells": [
  {
   "cell_type": "markdown",
   "id": "07a6a3e7",
   "metadata": {},
   "source": [
    "## Music Robot\n",
    "\n"
   ]
  },
  {
   "cell_type": "code",
   "execution_count": 4,
   "id": "4a3ed871",
   "metadata": {
    "scrolled": true
   },
   "outputs": [],
   "source": [
    "#!pip install -U -q ipywidgets\n",
    "#!jupyter nbextension enable --py widgetsnbextension\n"
   ]
  },
  {
   "cell_type": "code",
   "execution_count": 5,
   "id": "2805f3fb",
   "metadata": {},
   "outputs": [],
   "source": [
    "#import numpy as np\n",
    "#import pandas as pd\n",
    "#import scipy\n",
    "#import ipywidgets as widgets\n",
    "import IPython.display as ipd\n",
    "#import os\n",
    "#import librosa\n",
    "#import warnings\n",
    "\n",
    "import interact_with_user\n",
    "from ipywidgets import interact, interact_manual\n",
    "from IPython.display import Image, display, HTML, Audio, clear_output"
   ]
  },
  {
   "cell_type": "code",
   "execution_count": 6,
   "id": "6a4e4f85",
   "metadata": {},
   "outputs": [
    {
     "data": {
      "text/html": [
       "<h3>Hi there, I'm the musical robot. Nice to meet you!<br><br>If you want to know the genre of the music, please go ahead and upload your music/audio file below.<h3>"
      ],
      "text/plain": [
       "<IPython.core.display.HTML object>"
      ]
     },
     "metadata": {},
     "output_type": "display_data"
    },
    {
     "data": {
      "application/vnd.jupyter.widget-view+json": {
       "model_id": "649acb15b3da4499a8015901747f7fff",
       "version_major": 2,
       "version_minor": 0
      },
      "text/plain": [
       "FileUpload(value={}, description='Upload', layout=Layout(height='40px', width='250px'))"
      ]
     },
     "metadata": {},
     "output_type": "display_data"
    },
    {
     "data": {
      "application/vnd.jupyter.widget-view+json": {
       "model_id": "f6aac8abbea2431883b486cb49ef5498",
       "version_major": 2,
       "version_minor": 0
      },
      "text/plain": [
       "Output()"
      ]
     },
     "metadata": {},
     "output_type": "display_data"
    }
   ],
   "source": [
    "display(HTML(\"<h3>Hi there, I'm the musical robot. Nice to meet you!<br><br>If you want to know the genre of the music, please go ahead and upload your music/audio file below.<h3>\" ))\n",
    "\n",
    "robot=interact_with_user.Interactive()\n",
    "uploader,output=robot.uploader()\n",
    "def on_upload_change(change):\n",
    "    output.clear_output(wait=True);\n",
    "    clear_output(wait=True)\n",
    "    robot.save_file(uploader)\n",
    "    \n",
    "    robot.if_play_songs_first()\n",
    "\n",
    "uploader.observe(on_upload_change, names='value')"
   ]
  },
  {
   "cell_type": "code",
   "execution_count": null,
   "id": "2f2feb65",
   "metadata": {},
   "outputs": [],
   "source": []
  },
  {
   "cell_type": "code",
   "execution_count": null,
   "id": "128d3e1c",
   "metadata": {},
   "outputs": [],
   "source": []
  }
 ],
 "metadata": {
  "kernelspec": {
   "display_name": "Python 3 (ipykernel)",
   "language": "python",
   "name": "python3"
  },
  "language_info": {
   "codemirror_mode": {
    "name": "ipython",
    "version": 3
   },
   "file_extension": ".py",
   "mimetype": "text/x-python",
   "name": "python",
   "nbconvert_exporter": "python",
   "pygments_lexer": "ipython3",
   "version": "3.8.3"
  },
  "toc": {
   "base_numbering": 1,
   "nav_menu": {},
   "number_sections": true,
   "sideBar": true,
   "skip_h1_title": false,
   "title_cell": "Table of Contents",
   "title_sidebar": "Contents",
   "toc_cell": false,
   "toc_position": {},
   "toc_section_display": true,
   "toc_window_display": false
  }
 },
 "nbformat": 4,
 "nbformat_minor": 5
}
