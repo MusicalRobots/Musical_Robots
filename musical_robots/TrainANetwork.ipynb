{
 "cells": [
  {
   "cell_type": "code",
   "execution_count": 1,
   "id": "ebf5e0cd",
   "metadata": {},
   "outputs": [],
   "source": [
    "from SpectrogramDataset import SpectrogramDataset, MfccDataset, AudioFeature, create_audio_feature_dataset, create_mfcc_dataset, create_dataframes, create_dataset\n",
    "import torch\n",
    "import numpy as np\n",
    "import torch.nn as nn\n",
    "import matplotlib.pyplot as plt\n",
    "\n"
   ]
  },
  {
   "cell_type": "code",
   "execution_count": 2,
   "id": "c220ffa3",
   "metadata": {},
   "outputs": [],
   "source": [
    "file_path_df, track_df, genre_df = create_dataframes(file_paths_path = 'data/all_data_paths.txt' , \n",
    "                                                     tracks_csv_path = 'data/fma_metadata/tracks.csv', \n",
    "                                                     genre_csv_path = 'data/fma_metadata/genres.csv')\n"
   ]
  },
  {
   "cell_type": "code",
   "execution_count": 3,
   "id": "711ed6c7",
   "metadata": {},
   "outputs": [
    {
     "name": "stdout",
     "output_type": "stream",
     "text": [
      "Failed to load  data/fma_small/108/108925.mp3\n",
      "Failed to load  data/fma_small/133/133297.mp3\n",
      "Training dataset created.\n",
      "Failed to load  data/fma_small/099/099134.mp3\n",
      "Validation dataset created.\n",
      "Test dataset created.\n"
     ]
    }
   ],
   "source": [
    "# train_data, validation_data, test_data = create_dataset(file_path_df, track_df, genre_df, test_percentage = .10, validation_percentage = .10)\n",
    "\n",
    "# train_data, validation_data, test_data = create_mfcc_dataset(file_path_df, track_df, genre_df, test_percentage = .10, validation_percentage = .10)\n",
    "\n",
    "train_data, validation_data, test_data = create_audio_feature_dataset(file_path_df, track_df, genre_df, test_percentage = .10, validation_percentage = .10)\n"
   ]
  },
  {
   "cell_type": "code",
   "execution_count": 4,
   "id": "95560145",
   "metadata": {},
   "outputs": [],
   "source": [
    "# np.save('train_data', train_data)\n",
    "# np.save('validation_data', validation_data)\n",
    "# np.save('test_data', test_data)\n",
    "\n",
    "train_data = np.load('train_data.npy', allow_pickle = True)\n",
    "test_data = np.load('test_data.npy', allow_pickle = True)\n",
    "validation_data = np.load('validation_data.npy', allow_pickle = True)"
   ]
  },
  {
   "cell_type": "code",
   "execution_count": 5,
   "id": "19b07e57",
   "metadata": {},
   "outputs": [],
   "source": [
    "train_data_array =np.array([np.concatenate([np.average(row[0], axis = 1), np.median(row[0], axis = 1), \n",
    "                                            np.std(row[0], axis = 1), [np.average(row[1])], [np.average(row[2])], \n",
    "                                            np.average(row[3], axis = 1), [np.average(row[4])], \n",
    "                                            [np.average(5)]]) for row in train_data])\n",
    "train_data_label = [row[6] for row in train_data]\n",
    "\n",
    "\n",
    "# train_data_array =np.array([np.concatenate([np.average(row[0].numpy(), axis = 1), \n",
    "#                               np.median(row[0].numpy(), axis = 1), \n",
    "#                               np.std(row[0].numpy(), axis = 1)]) for row in train_data])\n",
    "# train_data_label = [torch.argmax(row[1]).item() for row in train_data]\n",
    "\n"
   ]
  },
  {
   "cell_type": "code",
   "execution_count": null,
   "id": "9557b936",
   "metadata": {},
   "outputs": [],
   "source": [
    "unique_classes = np.unique(train_data_label)\n",
    "list_of_features = [[] for i in range(len(unique_classes))]\n",
    "for index, row in enumerate(train_data):\n",
    "    genre = train_data_label[index]\n",
    "    genre_loc = np.where(unique_classes == genre)[0][0]\n",
    "    \n",
    "    \n",
    "    list_of_features[genre_loc].append(np.average(row[0], axis = 1))\n",
    "    \n",
    "for feature in list_of_features:\n",
    "    plt.figure()\n",
    "    plt.hist(feature)"
   ]
  },
  {
   "cell_type": "code",
   "execution_count": 5,
   "id": "789a41cb",
   "metadata": {},
   "outputs": [],
   "source": [
    "test_data_array =np.array([np.concatenate([np.average(row[0], axis = 1), np.median(row[0], axis = 1), \n",
    "                                            np.std(row[0], axis = 1), [np.average(row[1])], [np.average(row[2])], \n",
    "                                            np.average(row[3], axis = 1), [np.average(row[4])], \n",
    "                                            [np.average(5)]]) for row in test_data])\n",
    "test_data_label = [row[6] for row in test_data]\n",
    "\n",
    "# test_data_array = np.array([np.concatenate([np.average(row[0].numpy(), axis = 1), \n",
    "#                               np.median(row[0].numpy(), axis = 1), \n",
    "#                               np.std(row[0].numpy(), axis = 1)]) for row in test_data])\n",
    "# test_data_label = [torch.argmax(row[1]).item() for row in test_data]\n",
    "\n",
    "# n = np.min(test_data_array.shape[0], teset_data_label.shape[0])"
   ]
  },
  {
   "cell_type": "code",
   "execution_count": 44,
   "id": "a4aeb4a1",
   "metadata": {},
   "outputs": [],
   "source": [
    "# from sklearn.decomposition import PCA\n",
    "# pca = PCA(n_components = 500)\n",
    "# train_array_pca = pca.fit_transform(train_data_array)"
   ]
  },
  {
   "cell_type": "code",
   "execution_count": null,
   "id": "8d30af51",
   "metadata": {},
   "outputs": [],
   "source": [
    "from sklearn.svm import SVC\n",
    "clf = SVC(kernel = 'linear')\n",
    "clf.fit(train_data_array, train_data_label)"
   ]
  },
  {
   "cell_type": "code",
   "execution_count": null,
   "id": "a7b0a337",
   "metadata": {},
   "outputs": [],
   "source": [
    "# test_array_pca = pca.fit_transform(test_data_array)\n",
    "labels = clf.predict(test_data_array)\n"
   ]
  },
  {
   "cell_type": "code",
   "execution_count": null,
   "id": "f89780a8",
   "metadata": {},
   "outputs": [],
   "source": [
    "# labels "
   ]
  },
  {
   "cell_type": "code",
   "execution_count": null,
   "id": "97c067a7",
   "metadata": {},
   "outputs": [],
   "source": [
    "ind = np.where(labels ==  test_data_label)[0]\n",
    "print(len(ind), len(labels), len(ind)/len(labels))"
   ]
  },
  {
   "cell_type": "code",
   "execution_count": 25,
   "id": "547859ea",
   "metadata": {},
   "outputs": [
    {
     "name": "stdout",
     "output_type": "stream",
     "text": [
      " TP:  58  FP:  64  percent correct for genre 0 :  56.86274509803921\n",
      " TP:  13  FP:  62  percent correct for genre 1 :  14.285714285714285\n",
      " TP:  68  FP:  79  percent correct for genre 2 :  69.38775510204081\n",
      " TP:  13  FP:  22  percent correct for genre 3 :  14.444444444444443\n",
      " TP:  53  FP:  71  percent correct for genre 4 :  50.96153846153846\n",
      " TP:  46  FP:  75  percent correct for genre 6 :  47.91666666666667\n",
      " TP:  27  FP:  38  percent correct for genre 8 :  25.233644859813083\n",
      " TP:  50  FP:  60  percent correct for genre 14 :  45.04504504504504\n"
     ]
    }
   ],
   "source": [
    "for i in np.unique(test_data_label):\n",
    "    true_ind = np.where(test_data_label == i)[0]\n",
    "    pred_ind = np.where(labels == i)[0]\n",
    "    percentage_ind = (len(np.intersect1d(true_ind,pred_ind))/len(true_ind))*100\n",
    "    \n",
    "    FP = len(np.setdiff1d(pred_ind,true_ind))\n",
    "    TP = len(np.intersect1d(true_ind,pred_ind))\n",
    "\n",
    "    print(' TP: ', TP, ' FP: ', FP, ' percent correct for genre', i, ': ', percentage_ind)\n",
    "    \n",
    "    "
   ]
  },
  {
   "cell_type": "code",
   "execution_count": 26,
   "id": "cce9abf0",
   "metadata": {},
   "outputs": [
    {
     "data": {
      "image/png": "[encoded data removed]",
      "text/plain": [
       "<Figure size 432x288 with 1 Axes>"
      ]
     },
     "metadata": {
      "needs_background": "light"
     },
     "output_type": "display_data"
    },
    {
     "data": {
      "image/png": "[encoded data removed]",
      "text/plain": [
       "<Figure size 432x288 with 1 Axes>"
      ]
     },
     "metadata": {
      "needs_background": "light"
     },
     "output_type": "display_data"
    },
    {
     "data": {
      "image/png": "[encoded data removed]",
      "text/plain": [
       "<Figure size 432x288 with 1 Axes>"
      ]
     },
     "metadata": {
      "needs_background": "light"
     },
     "output_type": "display_data"
    },
    {
     "data": {
      "image/png": "[encoded data removed]",
      "text/plain": [
       "<Figure size 432x288 with 1 Axes>"
      ]
     },
     "metadata": {
      "needs_background": "light"
     },
     "output_type": "display_data"
    },
    {
     "data": {
      "image/png": "[encoded data removed]",
      "text/plain": [
       "<Figure size 432x288 with 1 Axes>"
      ]
     },
     "metadata": {
      "needs_background": "light"
     },
     "output_type": "display_data"
    },
    {
     "data": {
      "image/png": "[encoded data removed]",
      "text/plain": [
       "<Figure size 432x288 with 1 Axes>"
      ]
     },
     "metadata": {
      "needs_background": "light"
     },
     "output_type": "display_data"
    },
    {
     "data": {
      "image/png": "[encoded data removed]",
      "text/plain": [
       "<Figure size 432x288 with 1 Axes>"
      ]
     },
     "metadata": {
      "needs_background": "light"
     },
     "output_type": "display_data"
    },
    {
     "data": {
      "image/png": "[encoded data removed]",
      "text/plain": [
       "<Figure size 432x288 with 1 Axes>"
      ]
     },
     "metadata": {
      "needs_background": "light"
     },
     "output_type": "display_data"
    }
   ],
   "source": [
    "import matplotlib.pyplot as plt\n",
    "\n",
    "for i in np.unique(test_data_label):\n",
    "    true_ind = np.where(test_data_label == i)[0]\n",
    "    pred_genres = labels[true_ind]\n",
    "    unique, counts = np.unique(pred_genres, return_counts=True)\n",
    "   \n",
    "    plt.figure()\n",
    "    plt.bar(unique, counts)\n",
    "\n"
   ]
  },
  {
   "cell_type": "code",
   "execution_count": 101,
   "id": "95a80344",
   "metadata": {},
   "outputs": [
    {
     "data": {
      "text/html": [
       "<div>\n",
       "<style scoped>\n",
       "    .dataframe tbody tr th:only-of-type {\n",
       "        vertical-align: middle;\n",
       "    }\n",
       "\n",
       "    .dataframe tbody tr th {\n",
       "        vertical-align: top;\n",
       "    }\n",
       "\n",
       "    .dataframe thead th {\n",
       "        text-align: right;\n",
       "    }\n",
       "</style>\n",
       "<table border=\"1\" class=\"dataframe\">\n",
       "  <thead>\n",
       "    <tr style=\"text-align: right;\">\n",
       "      <th></th>\n",
       "      <th>index</th>\n",
       "      <th>genre_id</th>\n",
       "      <th>title</th>\n",
       "    </tr>\n",
       "  </thead>\n",
       "  <tbody>\n",
       "    <tr>\n",
       "      <th>0</th>\n",
       "      <td>20</td>\n",
       "      <td>21</td>\n",
       "      <td>Hip-Hop</td>\n",
       "    </tr>\n",
       "    <tr>\n",
       "      <th>1</th>\n",
       "      <td>9</td>\n",
       "      <td>10</td>\n",
       "      <td>Pop</td>\n",
       "    </tr>\n",
       "    <tr>\n",
       "      <th>2</th>\n",
       "      <td>11</td>\n",
       "      <td>12</td>\n",
       "      <td>Rock</td>\n",
       "    </tr>\n",
       "    <tr>\n",
       "      <th>3</th>\n",
       "      <td>31</td>\n",
       "      <td>38</td>\n",
       "      <td>Experimental</td>\n",
       "    </tr>\n",
       "    <tr>\n",
       "      <th>4</th>\n",
       "      <td>16</td>\n",
       "      <td>17</td>\n",
       "      <td>Folk</td>\n",
       "    </tr>\n",
       "    <tr>\n",
       "      <th>5</th>\n",
       "      <td>3</td>\n",
       "      <td>4</td>\n",
       "      <td>Jazz</td>\n",
       "    </tr>\n",
       "    <tr>\n",
       "      <th>6</th>\n",
       "      <td>14</td>\n",
       "      <td>15</td>\n",
       "      <td>Electronic</td>\n",
       "    </tr>\n",
       "    <tr>\n",
       "      <th>7</th>\n",
       "      <td>19</td>\n",
       "      <td>20</td>\n",
       "      <td>Spoken</td>\n",
       "    </tr>\n",
       "    <tr>\n",
       "      <th>8</th>\n",
       "      <td>1</td>\n",
       "      <td>2</td>\n",
       "      <td>International</td>\n",
       "    </tr>\n",
       "    <tr>\n",
       "      <th>9</th>\n",
       "      <td>13</td>\n",
       "      <td>14</td>\n",
       "      <td>Soul-RnB</td>\n",
       "    </tr>\n",
       "    <tr>\n",
       "      <th>10</th>\n",
       "      <td>2</td>\n",
       "      <td>3</td>\n",
       "      <td>Blues</td>\n",
       "    </tr>\n",
       "    <tr>\n",
       "      <th>11</th>\n",
       "      <td>8</td>\n",
       "      <td>9</td>\n",
       "      <td>Country</td>\n",
       "    </tr>\n",
       "    <tr>\n",
       "      <th>12</th>\n",
       "      <td>4</td>\n",
       "      <td>5</td>\n",
       "      <td>Classical</td>\n",
       "    </tr>\n",
       "    <tr>\n",
       "      <th>13</th>\n",
       "      <td>7</td>\n",
       "      <td>8</td>\n",
       "      <td>Old-Time / Historic</td>\n",
       "    </tr>\n",
       "    <tr>\n",
       "      <th>14</th>\n",
       "      <td>162</td>\n",
       "      <td>1235</td>\n",
       "      <td>Instrumental</td>\n",
       "    </tr>\n",
       "    <tr>\n",
       "      <th>15</th>\n",
       "      <td>12</td>\n",
       "      <td>13</td>\n",
       "      <td>Easy Listening</td>\n",
       "    </tr>\n",
       "  </tbody>\n",
       "</table>\n",
       "</div>"
      ],
      "text/plain": [
       "    index  genre_id                title\n",
       "0      20        21              Hip-Hop\n",
       "1       9        10                  Pop\n",
       "2      11        12                 Rock\n",
       "3      31        38         Experimental\n",
       "4      16        17                 Folk\n",
       "5       3         4                 Jazz\n",
       "6      14        15           Electronic\n",
       "7      19        20               Spoken\n",
       "8       1         2        International\n",
       "9      13        14             Soul-RnB\n",
       "10      2         3                Blues\n",
       "11      8         9              Country\n",
       "12      4         5            Classical\n",
       "13      7         8  Old-Time / Historic\n",
       "14    162      1235         Instrumental\n",
       "15     12        13       Easy Listening"
      ]
     },
     "execution_count": 101,
     "metadata": {},
     "output_type": "execute_result"
    }
   ],
   "source": [
    "genre_df.head(20)"
   ]
  },
  {
   "cell_type": "code",
   "execution_count": 150,
   "id": "6343b2d0",
   "metadata": {},
   "outputs": [],
   "source": [
    "class NN(torch.nn.Module):\n",
    "    def __init__(self):\n",
    "        super().__init__()\n",
    "        self.conv1 = nn.Conv2d(in_channels = 1, out_channels= 1, kernel_size = 3, stride = 1)\n",
    "        self.maxpool = nn.MaxPool2d(kernel_size=2)\n",
    "        self.conv2 = nn.Conv2d(in_channels = 1, out_channels = 1, kernel_size = 3, stride = 1)\n",
    "#         self.conv3 = nn.Conv2d(in_channels = 1, out_channels = 1, kernel_size =2, stride = 1)\n",
    "        self.ReLU = nn.ReLU()\n",
    "#         self.fc1 = nn.Linear(1869, 32)\n",
    "#         self.fc2 = nn.Linear(928, 256)\n",
    "        self.fc3 = nn.Linear(1869, 16)\n",
    "        self.softmax = nn.Softmax(dim = 1)\n",
    "        self.flatten = nn.Flatten()\n",
    "\n",
    "    def forward(self, x):\n",
    "        x = x[:,None, :, :]\n",
    "        x = self.ReLU(self.conv1(x))\n",
    "        x = self.maxpool(x)\n",
    "        x = self.ReLU(self.conv2(x))\n",
    "        x = self.maxpool(x)\n",
    "#         x = self.ReLU(self.conv3(x))\n",
    "#         x = self.maxpool(x)\n",
    "#         x = self.ReLU(self.conv3(x))\n",
    "#         x = self.maxpool(x)\n",
    "        x = self.flatten(x) \n",
    "#         print(x.shape)\n",
    "#         print(x.shape)\n",
    "#         x = self.ReLU(self.fc1(x))\n",
    "#         x = self.ReLU(self.fc1(x))\n",
    "#         x = self.ReLU(self.fc2(x))\n",
    "        x = self.softmax(self.fc3(x))\n",
    "        \n",
    "        return x\n",
    "\n",
    "def evaluate(model, validation_loader, criterion):\n",
    "    \n",
    "    model.eval()\n",
    "    \n",
    "    val_loss = 0\n",
    "    val_acc = 0\n",
    "    \n",
    "    for inputs, labels in validation_loader:\n",
    "        outputs = model(inputs)\n",
    "        val_loss += criterion(outputs, labels)\n",
    "        _, true_labels = torch.max(labels, dim = 1)\n",
    "        \n",
    "        _, pred_labels = torch.max(outputs, dim = 1)\n",
    "                \n",
    "        val_acc += torch.tensor(torch.sum(pred_labels == true_labels).item()/len(pred_labels))\n",
    "    \n",
    "    val_loss = val_loss/len(validation_loader)\n",
    "    val_acc = val_acc/len(validation_loader)\n",
    "        \n",
    "    return val_loss.detach().item(), val_acc.item()\n",
    "        \n",
    "        \n",
    "\n",
    "def train_NN(model, train_loader, validation_loader, learning_rate:float, epochs:int=100):\n",
    "    optimizer = torch.optim.Adam(model.parameters(), lr=learning_rate)\n",
    "    criterion = torch.nn.CrossEntropyLoss()\n",
    "\n",
    "    for epoch in range(epochs):\n",
    "        model.train()\n",
    "        loss = 0\n",
    "        for inputs, labels in train_loader:\n",
    "\n",
    "            optimizer.zero_grad()\n",
    "            \n",
    "            outputs = model(inputs)\n",
    "            train_loss = criterion(outputs, labels)\n",
    "\n",
    "            train_loss.backward()\n",
    "\n",
    "            optimizer.step()\n",
    "\n",
    "            loss += train_loss.item()\n",
    "\n",
    "        loss = loss/len(train_loader)\n",
    "        \n",
    "        val_loss, val_acc = evaluate(model, validation_loader, criterion)\n",
    "\n",
    "        print(\"epoch: {}/{}, train loss = {:.6f}, val loss = {:.6f}, val acc = {:.6f}\".format(epoch+1, epochs, loss, val_loss, val_acc))\n",
    "        \n",
    "        if (epoch+1)%10 == 0:\n",
    "            torch.save(model.state_dict(), 'mfcc_model_2')\n",
    "\n",
    "\n",
    "            \n",
    "    return None\n",
    "\n"
   ]
  },
  {
   "cell_type": "code",
   "execution_count": 145,
   "id": "7016f381",
   "metadata": {},
   "outputs": [],
   "source": [
    "# print(train_data.shape)\n",
    "# train_data_tensor = torch.tensor(train_data)\n",
    "# print(train_data_tensor.shape)\n",
    "model = NN()\n",
    "train_loader = torch.utils.data.DataLoader(train_data, batch_size=32, shuffle=True)\n",
    "validation_loader = torch.utils.data.DataLoader(validation_data, batch_size = 10, shuffle = False)\n",
    "train_NN(model, train_loader, validation_loader, learning_rate = 1e-3, epochs = 100)"
   ]
  },
  {
   "cell_type": "code",
   "execution_count": 89,
   "id": "e0886a75",
   "metadata": {},
   "outputs": [
    {
     "name": "stdout",
     "output_type": "stream",
     "text": [
      "2.6234893356760343 0.24722221493721008\n"
     ]
    }
   ],
   "source": [
    "criterion = torch.nn.CrossEntropyLoss()\n",
    "test_loader = torch.utils.data.DataLoader(validation_data, batch_size = 1, shuffle = False)\n",
    "loss, acc = evaluate(model, test_loader, criterion)\n",
    "print(loss, acc)"
   ]
  },
  {
   "cell_type": "code",
   "execution_count": 151,
   "id": "7afec959",
   "metadata": {},
   "outputs": [
    {
     "data": {
      "text/plain": [
       "<All keys matched successfully>"
      ]
     },
     "execution_count": 151,
     "metadata": {},
     "output_type": "execute_result"
    }
   ],
   "source": [
    "# torch.save(model.state_dict(), 'mfcc_model_2')\n",
    "fin_model = NN()\n",
    "fin_model.load_state_dict(torch.load('mfcc_model'))\n",
    "# # model.eval()"
   ]
  },
  {
   "cell_type": "code",
   "execution_count": null,
   "id": "d51b9545",
   "metadata": {},
   "outputs": [],
   "source": [
    "#mfcc model had 2 conv with 1 in 1 out kernel size 3 and 1 linear\n",
    "#mfcc model 2 2 conv 115 112 2 linear 32, 16"
   ]
  },
  {
   "cell_type": "code",
   "execution_count": 96,
   "id": "da611d73",
   "metadata": {},
   "outputs": [],
   "source": [
    "row = file_path_df['file_path']"
   ]
  },
  {
   "cell_type": "code",
   "execution_count": 158,
   "id": "236b0bcf",
   "metadata": {},
   "outputs": [
    {
     "name": "stdout",
     "output_type": "stream",
     "text": [
      "true: 68    Folk\n",
      "Name: track_genre_top, dtype: object\n"
     ]
    }
   ],
   "source": [
    "import librosa\n",
    "i = 10\n",
    "\n",
    "filename = 'data/fma_small/' + row[i]\n",
    "\n",
    "try:\n",
    "    y, sr = librosa.load(filename, sr=None, mono=True)\n",
    "except (RuntimeError, audioread.NoBackendError):\n",
    "    print('Failed to load ', filename)\n",
    "\n",
    "song_id = row[i].rsplit('/')[1].rsplit('.')[0].lstrip('0')\n",
    "\n",
    "    \n",
    "mel = librosa.feature.mfcc(y=y)\n",
    "m = torch.nn.AdaptiveAvgPool1d(2500)\n",
    "mel = m(torch.from_numpy(mel))\n",
    "mel = (mel - torch.min(mel)) / (torch.max(mel) - torch.min(mel))\n",
    "\n",
    "genre_text = track_df[track_df['track_id'] == int(song_id)]['track_genre_top']\n",
    "\n",
    "print('true:', genre_text)"
   ]
  },
  {
   "cell_type": "code",
   "execution_count": 159,
   "id": "72625cbf",
   "metadata": {},
   "outputs": [
    {
     "name": "stdout",
     "output_type": "stream",
     "text": [
      "predicted: Hip-Hop\n"
     ]
    }
   ],
   "source": [
    "output = fin_model(mel[None, :,:])\n",
    "pred_genre = torch.argmax(output, dim = 1).item()\n",
    "print('predicted:', genre_df.iloc[0]['title'])"
   ]
  },
  {
   "cell_type": "code",
   "execution_count": 160,
   "id": "7c7b0f5c",
   "metadata": {},
   "outputs": [
    {
     "name": "stdout",
     "output_type": "stream",
     "text": [
      "predicted: Hip-Hop\n",
      "predicted: Hip-Hop\n",
      "predicted: Hip-Hop\n",
      "predicted: Hip-Hop\n",
      "predicted: Hip-Hop\n",
      "predicted: Hip-Hop\n",
      "predicted: Hip-Hop\n",
      "predicted: Hip-Hop\n",
      "predicted: Hip-Hop\n",
      "predicted: Hip-Hop\n",
      "predicted: Hip-Hop\n",
      "predicted: Hip-Hop\n",
      "predicted: Hip-Hop\n",
      "predicted: Hip-Hop\n",
      "predicted: Hip-Hop\n",
      "predicted: Hip-Hop\n",
      "predicted: Hip-Hop\n",
      "predicted: Hip-Hop\n",
      "predicted: Hip-Hop\n",
      "predicted: Hip-Hop\n",
      "predicted: Hip-Hop\n",
      "predicted: Hip-Hop\n",
      "predicted: Hip-Hop\n",
      "predicted: Hip-Hop\n",
      "predicted: Hip-Hop\n",
      "predicted: Hip-Hop\n",
      "predicted: Hip-Hop\n",
      "predicted: Hip-Hop\n",
      "predicted: Hip-Hop\n",
      "predicted: Hip-Hop\n",
      "predicted: Hip-Hop\n",
      "predicted: Hip-Hop\n",
      "predicted: Hip-Hop\n",
      "predicted: Hip-Hop\n",
      "predicted: Hip-Hop\n",
      "predicted: Hip-Hop\n",
      "predicted: Hip-Hop\n",
      "predicted: Hip-Hop\n",
      "predicted: Hip-Hop\n",
      "predicted: Hip-Hop\n",
      "predicted: Hip-Hop\n",
      "predicted: Hip-Hop\n",
      "predicted: Hip-Hop\n",
      "predicted: Hip-Hop\n",
      "predicted: Hip-Hop\n",
      "predicted: Hip-Hop\n",
      "predicted: Hip-Hop\n",
      "predicted: Hip-Hop\n",
      "predicted: Hip-Hop\n",
      "predicted: Hip-Hop\n",
      "predicted: Hip-Hop\n",
      "predicted: Hip-Hop\n",
      "predicted: Hip-Hop\n",
      "predicted: Hip-Hop\n",
      "predicted: Hip-Hop\n",
      "predicted: Hip-Hop\n",
      "predicted: Hip-Hop\n",
      "predicted: Hip-Hop\n",
      "predicted: Hip-Hop\n",
      "predicted: Hip-Hop\n",
      "predicted: Hip-Hop\n",
      "predicted: Hip-Hop\n",
      "predicted: Hip-Hop\n",
      "predicted: Hip-Hop\n",
      "predicted: Hip-Hop\n",
      "predicted: Hip-Hop\n",
      "predicted: Hip-Hop\n",
      "predicted: Hip-Hop\n",
      "predicted: Hip-Hop\n",
      "predicted: Hip-Hop\n",
      "predicted: Hip-Hop\n",
      "predicted: Hip-Hop\n",
      "predicted: Hip-Hop\n",
      "predicted: Hip-Hop\n",
      "predicted: Hip-Hop\n",
      "predicted: Hip-Hop\n",
      "predicted: Hip-Hop\n",
      "predicted: Hip-Hop\n",
      "predicted: Hip-Hop\n",
      "predicted: Hip-Hop\n",
      "predicted: Hip-Hop\n",
      "predicted: Hip-Hop\n",
      "predicted: Hip-Hop\n",
      "predicted: Hip-Hop\n",
      "predicted: Hip-Hop\n",
      "predicted: Hip-Hop\n",
      "predicted: Hip-Hop\n",
      "predicted: Hip-Hop\n",
      "predicted: Hip-Hop\n",
      "predicted: Hip-Hop\n",
      "predicted: Hip-Hop\n",
      "predicted: Hip-Hop\n",
      "predicted: Hip-Hop\n",
      "predicted: Hip-Hop\n",
      "predicted: Hip-Hop\n",
      "predicted: Hip-Hop\n",
      "predicted: Hip-Hop\n",
      "predicted: Hip-Hop\n",
      "predicted: Hip-Hop\n",
      "predicted: Hip-Hop\n"
     ]
    }
   ],
   "source": [
    "for i in range(100):\n",
    "    filename = 'data/fma_small/' + row[i]\n",
    "\n",
    "    try:\n",
    "        y, sr = librosa.load(filename, sr=None, mono=True)\n",
    "    except (RuntimeError, audioread.NoBackendError):\n",
    "        print('Failed to load ', filename)\n",
    "\n",
    "    song_id = row[i].rsplit('/')[1].rsplit('.')[0].lstrip('0')\n",
    "\n",
    "\n",
    "    mel = librosa.feature.mfcc(y=y)\n",
    "    m = torch.nn.AdaptiveAvgPool1d(2500)\n",
    "    mel = m(torch.from_numpy(mel))\n",
    "    mel = (mel - torch.min(mel)) / (torch.max(mel) - torch.min(mel))\n",
    "\n",
    "    genre_text = track_df[track_df['track_id'] == int(song_id)]['track_genre_top']\n",
    "\n",
    "#     print('true:', genre_text)\n",
    "    output = fin_model(mel[None, :,:])\n",
    "    pred_genre = torch.argmax(output, dim = 1).item()\n",
    "    print('predicted:', genre_df.iloc[0]['title'])"
   ]
  },
  {
   "cell_type": "code",
   "execution_count": null,
   "id": "f5abab79",
   "metadata": {},
   "outputs": [],
   "source": []
  }
 ],
 "metadata": {
  "kernelspec": {
   "display_name": "Python 3 (ipykernel)",
   "language": "python",
   "name": "python3"
  },
  "language_info": {
   "codemirror_mode": {
    "name": "ipython",
    "version": 3
   },
   "file_extension": ".py",
   "mimetype": "text/x-python",
   "name": "python",
   "nbconvert_exporter": "python",
   "pygments_lexer": "ipython3",
   "version": "3.8.3"
  }
 },
 "nbformat": 4,
 "nbformat_minor": 5
}
