{
 "cells": [
  {
   "cell_type": "markdown",
   "metadata": {},
   "source": [
    "# simple nn model fitting\n",
    "\n",
    "Notebook will run a very simple nn on the training points"
   ]
  },
  {
   "cell_type": "code",
   "execution_count": 1,
   "metadata": {},
   "outputs": [],
   "source": [
    "import numpy as np\n",
    "# import pandas as pd\n",
    "import matplotlib.pyplot as plt\n",
    "# import librosa\n",
    "# import librosa.display\n",
    "# import sklearn as skl\n",
    "# import sklearn.utils\n",
    "# import IPython.display as ipd\n",
    "# from sklearn.model_selection import train_test_split\n",
    "# import ast\n",
    "\n",
    "from sklearn.preprocessing import OneHotEncoder\n",
    "\n",
    "import torch\n",
    "import torch.nn as nn\n",
    "import torch.nn.functional as F"
   ]
  },
  {
   "cell_type": "code",
   "execution_count": 2,
   "metadata": {},
   "outputs": [],
   "source": [
    "#define network class\n",
    "#used some help from https://pytorch.org/tutorials/beginner/deep_learning_60min_blitz.html\n",
    "\n",
    "class Net(nn.Module):\n",
    "    def __init__(self, input_size, output_size = 1):\n",
    "        super(Net, self).__init__()\n",
    "        self.layer1 = nn.Linear(input_size, int(input_size/2))\n",
    "        self.layer2 = nn.Linear(int(input_size/2), int(input_size/4))\n",
    "        self.layer3 = nn.Linear(int(input_size/4), output_size)\n",
    "\n",
    "    # x represents our data\n",
    "    def forward(self, x):\n",
    "        x = F.relu(self.layer1(x))\n",
    "        x = F.relu(self.layer2(x))\n",
    "        x = self.layer3(x)\n",
    "        return x\n",
    "\n",
    "        "
   ]
  },
  {
   "cell_type": "code",
   "execution_count": 11,
   "metadata": {},
   "outputs": [
    {
     "name": "stdout",
     "output_type": "stream",
     "text": [
      "n_dim =  1000\n",
      "n_training_points =  50\n",
      "torch.Size([50, 13])\n"
     ]
    }
   ],
   "source": [
    "#import data\n",
    "train_data = torch.tensor(np.load('data/train_data.npy').T).float()[:1000]\n",
    "labels = torch.tensor(np.load('data/train_labels.npy')).float()\n",
    "n_dim, n_training_points = train_data.shape\n",
    "print(\"n_dim = \", n_dim)\n",
    "print('n_training_points = ', n_training_points )\n",
    "\n",
    "#need to one-hot-encode labels because the numbers are labels not numerical\n",
    "#got help from https://scikit-learn.org/stable/modules/generated/sklearn.preprocessing.OneHotEncoder.html\n",
    "# labels = F.one_hot(labels)\n",
    "# print(labels.shape)\n",
    "\n",
    "enc = OneHotEncoder(handle_unknown='ignore')\n",
    "enc.fit(labels.unsqueeze(1)) #takes a 2d array as input and labels is 1d\n",
    "enc.categories_\n",
    "labels = enc.transform(labels.unsqueeze(1)).toarray()\n",
    "labels = torch.tensor(labels).float()\n",
    "print(labels.shape)\n",
    "_, n_categories = labels.shape #number of categories is out output size for our network"
   ]
  },
  {
   "cell_type": "code",
   "execution_count": 12,
   "metadata": {},
   "outputs": [
    {
     "name": "stdout",
     "output_type": "stream",
     "text": [
      "Net(\n",
      "  (layer1): Linear(in_features=1000, out_features=500, bias=True)\n",
      "  (layer2): Linear(in_features=500, out_features=250, bias=True)\n",
      "  (layer3): Linear(in_features=250, out_features=13, bias=True)\n",
      ")\n"
     ]
    }
   ],
   "source": [
    "model = Net(n_dim, n_categories)\n",
    "print(model)\n",
    "optimizer = torch.optim.Adam(model.parameters())\n",
    "criterion = nn.MSELoss()"
   ]
  },
  {
   "cell_type": "code",
   "execution_count": 15,
   "metadata": {},
   "outputs": [
    {
     "name": "stdout",
     "output_type": "stream",
     "text": [
      "loss =  tensor(0.0250, grad_fn=<MseLossBackward>)\n",
      "loss =  tensor(0.0247, grad_fn=<MseLossBackward>)\n",
      "loss =  tensor(0.0244, grad_fn=<MseLossBackward>)\n",
      "loss =  tensor(0.0241, grad_fn=<MseLossBackward>)\n",
      "loss =  tensor(0.0238, grad_fn=<MseLossBackward>)\n",
      "loss =  tensor(0.0235, grad_fn=<MseLossBackward>)\n",
      "loss =  tensor(0.0232, grad_fn=<MseLossBackward>)\n",
      "loss =  tensor(0.0229, grad_fn=<MseLossBackward>)\n",
      "loss =  tensor(0.0227, grad_fn=<MseLossBackward>)\n",
      "loss =  tensor(0.0224, grad_fn=<MseLossBackward>)\n",
      "loss =  tensor(0.0222, grad_fn=<MseLossBackward>)\n",
      "loss =  tensor(0.0221, grad_fn=<MseLossBackward>)\n",
      "loss =  tensor(0.0219, grad_fn=<MseLossBackward>)\n",
      "loss =  tensor(0.0214, grad_fn=<MseLossBackward>)\n",
      "loss =  tensor(0.0213, grad_fn=<MseLossBackward>)\n",
      "loss =  tensor(0.0211, grad_fn=<MseLossBackward>)\n",
      "loss =  tensor(0.0207, grad_fn=<MseLossBackward>)\n",
      "loss =  tensor(0.0206, grad_fn=<MseLossBackward>)\n",
      "loss =  tensor(0.0203, grad_fn=<MseLossBackward>)\n",
      "loss =  tensor(0.0201, grad_fn=<MseLossBackward>)\n"
     ]
    }
   ],
   "source": [
    "max_epochs = 20\n",
    "for epoch in range(max_epochs):\n",
    "    optimizer.zero_grad()   # zero the gradient buffers\n",
    "#     print(train_data.shape)\n",
    "    output = model(train_data.T)\n",
    "#     print(output.shape)\n",
    "#     print(labels.shape)\n",
    "#     print(type(output))\n",
    "#     print(type(labels))\n",
    "    loss = criterion(output, labels)\n",
    "    loss.backward()\n",
    "    optimizer.step()    # Does the update\n",
    "    print(\"loss = \", loss)"
   ]
  },
  {
   "cell_type": "code",
   "execution_count": null,
   "metadata": {},
   "outputs": [],
   "source": [
    "print(labels)"
   ]
  },
  {
   "cell_type": "code",
   "execution_count": null,
   "metadata": {},
   "outputs": [],
   "source": []
  },
  {
   "cell_type": "code",
   "execution_count": null,
   "metadata": {},
   "outputs": [],
   "source": []
  },
  {
   "cell_type": "code",
   "execution_count": null,
   "metadata": {},
   "outputs": [],
   "source": []
  }
 ],
 "metadata": {
  "kernelspec": {
   "display_name": "Python 3",
   "language": "python",
   "name": "python3"
  },
  "language_info": {
   "codemirror_mode": {
    "name": "ipython",
    "version": 3
   },
   "file_extension": ".py",
   "mimetype": "text/x-python",
   "name": "python",
   "nbconvert_exporter": "python",
   "pygments_lexer": "ipython3",
   "version": "3.8.5"
  }
 },
 "nbformat": 4,
 "nbformat_minor": 4
}
